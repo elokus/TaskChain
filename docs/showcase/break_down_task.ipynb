{
 "cells": [
  {
   "cell_type": "markdown",
   "source": [
    "# Key Concept Tasks\n",
    "The main building block of task_chain is the task object. A Task contains key information as: Name, Description, Typ, Inputs/Outputs, its relations to other tasks and states. A Task can have several types which mainly represent the hierarchy of the task within the big picture.\n",
    "We differentiate between the following Tasks:\n",
    "- **Project**: A high-level Goal.\n",
    "- **Pipeline**: A pipeline is a high-level task with the goal to achieve a milestone within the project. A pipeline contains a sequence of tasks which are all related to the specific milestone of the pipeline. You can also use a pipeline task as a standalone project if there is no need for multiple pipelines.\n",
    "- **Task**: A task is a single unit of work. That should be executed by a single Agent\n",
    "\n",
    "For more specific use cases we also defined Tasks of type:\n",
    "- **Issue**: An issue resolving task\n",
    "- **Subtask**: If we need to break down a task further down. Not in use yet.\n"
   ],
   "metadata": {
    "collapsed": false
   }
  },
  {
   "cell_type": "markdown",
   "source": [
    "# Decomposer: Break down a task into subtasks\n",
    "\n",
    "The initial building block for task chain is the decomposer. It takes a task and breaks it down into subtasks. This is done by sequence and sometime by an iteration of chains (see [Langchain Chains](https://python.langchain.com/en/latest/modules/chains/getting_started.html)). After decomposing we want to have a tree structure of task objects.\n",
    "\n",
    "You can choose between a Pipeline Decomposer or Project Decomposer based on your use case. We will use the Simple Pipeline Decomposer in this example to break down a task into a sequence of subtasks.\n",
    "\n",
    "## Example: Pipeline Decomposer\n",
    "1. Setup a Task Storage\n",
    "2. Setup Decomposer\n",
    "3. Define a objective\n"
   ],
   "metadata": {
    "collapsed": false
   }
  },
  {
   "cell_type": "code",
   "execution_count": 1,
   "outputs": [
    {
     "name": "stdout",
     "output_type": "stream",
     "text": [
      "\n",
      "\n",
      "\u001B[1m> Entering new LLMChain chain...\u001B[0m\n",
      "Prompt after formatting:\n",
      "\u001B[32;1m\u001B[1;3m\n",
      "Breakdown the following task into a sequence of subtasks. Define the input and output keys of each task as lowercase strings.\n",
      "ROOT TASK: \n",
      "Create a report about the demographics of the population of India\n",
      "\n",
      "\n",
      "Return your respond as string in the following format without any introducing or describing text:\n",
      "\n",
      "Name of Root Task:\n",
      "    - Name of Subtask 1\n",
      "    - Name of Subtask 2\n",
      "    ...\n",
      "    - Name of Subtask n\n",
      "    \n",
      "\n",
      "\n",
      "Additional instructions:\n",
      "Create a flat list as shown above do not break subtasks down further.\n",
      "Try to break down into as few subtasks as possible.\n",
      "Begin!\n",
      "\u001B[0m\n",
      "\n",
      "\u001B[1m> Finished chain.\u001B[0m\n",
      "\n",
      "\n",
      "\u001B[1m> Entering new LLMChain chain...\u001B[0m\n",
      "Prompt after formatting:\n",
      "\u001B[32;1m\u001B[1;3m\n",
      "Based on the following sequence of subtasks, define the input and output keys of each task as lowercase strings with underscores and\n",
      "add a description for each subtask.\n",
      "TASK LIST: \n",
      "root task:\n",
      "    - gather demographic data of India population\n",
      "    - analyze demographic data to identify trends and patterns\n",
      "    - create a report summarizing the demographic information and analysis\n",
      "\n",
      "input keys:\n",
      "- demographic data\n",
      "- analysis of demographic data\n",
      "\n",
      "output keys:\n",
      "- demographic report\n",
      "\n",
      "\n",
      "The response should be a JSON object with the following schema:\n",
      "```\n",
      "{\n",
      "    \"tasks\": [\n",
      "        {\n",
      "            \"name\": \"Name of the task (Title Case string).\",\n",
      "            \"description\": \"Description of the task.\",\n",
      "            \"inputs\": [\n",
      "                \"List of input key/s (underscore lowercase string)\"\n",
      "            ],\n",
      "            \"outputs\": [\n",
      "                \"List of output key/s (underscore lowercase string).\"\n",
      "            ]\n",
      "        }\n",
      "    ]\n",
      "}\n",
      "```\n",
      "The response should be compatible with Python's json.loads function.\n",
      "\n",
      "\n",
      "Additional instructions:\n",
      "Do not define the root task only the subtasks.\n",
      "Begin!\n",
      "\u001B[0m\n",
      "\n",
      "\u001B[1m> Finished chain.\u001B[0m\n",
      "\n",
      "\n",
      "\u001B[1m> Entering new LLMChain chain...\u001B[0m\n",
      "Prompt after formatting:\n",
      "\u001B[32;1m\u001B[1;3m\n",
      "Based on the following sequence of subtasks, specify the parent task by defining the input and output keys of each task as lowercase strings with undersores.\n",
      "TASK LIST:\n",
      "# Tasks:\n",
      "- gather demographic data of India population:\n",
      "    - Description: Collect data on the population of India, including age, gender, ethnicity, location, and other relevant factors.\n",
      "    - Inputs: \n",
      "    - Outputs: 'demographic data'\n",
      "\n",
      "- analyze demographic data to identify trends and patterns:\n",
      "    - Description: Use statistical analysis and other methods to identify patterns and trends in the demographic data collected.\n",
      "    - Inputs: 'demographic data'\n",
      "    - Outputs: 'analysis of demographic data'\n",
      "\n",
      "- create a report summarizing the demographic information and analysis:\n",
      "    - Description: Generate a report summarizing the demographic data collected and the analysis performed on that data.\n",
      "    - Inputs: 'demographic data', 'analysis of demographic data'\n",
      "    - Outputs: 'demographic report'\n",
      "\n",
      "\n",
      "\n",
      "\n",
      "The response should be a JSON object with the following schema:\n",
      "```\n",
      "{\n",
      "  \"name\": \"Name of the task (Title Case string).\",\n",
      "  \"description\": \"Description of the task.\",\n",
      "  \"inputs\": [\n",
      "    \"List of input key/s (underscore lowercase string)\"\n",
      "  ],\n",
      "  \"outputs\": [\n",
      "    \"List of output key/s (underscore lowercase string).\"\n",
      "  ]\n",
      "}\n",
      "```\n",
      "The response should be compatible with Python's json.loads function.\n",
      "\n",
      "\n",
      "Additional instructions:\n",
      "Do not define the subtasks only the parent task.\n",
      "Known information about the parent task: Create a report about the demographics of the population of India \n",
      "Begin! \n",
      "\u001B[0m\n",
      "\n",
      "\u001B[1m> Finished chain.\u001B[0m\n"
     ]
    },
    {
     "data": {
      "text/plain": "(Task(id='8e77168e8948459e9bd8bb667c1ae524', name='Create a report about the demographics of the population of India', description='Generate a report summarizing the demographic data collected and the analysis performed on that data.', status=<TaskStatus.OPEN: 'open'>, type=<TaskType.PIPELINE: 'pipeline'>, summary='root task:\\n    - gather demographic data of India population\\n    - analyze demographic data to identify trends and patterns\\n    - create a report summarizing the demographic information and analysis\\n\\ninput keys:\\n- demographic data\\n- analysis of demographic data\\n\\noutput keys:\\n- demographic report', details=None, results=None, relations={}, inputs=['demographic data', 'analysis of demographic data'], outputs=['demographic report']),\n [Task(id='2633c23b7e0448d39eea9c70f09afec5', name='gather demographic data of India population', description='Collect data on the population of India, including age, gender, ethnicity, location, and other relevant factors.', status=<TaskStatus.OPEN: 'open'>, type=<TaskType.TASK: 'task'>, summary=None, details=None, results=None, relations={<TaskRelations.PARENT: 'parent'>: '8e77168e8948459e9bd8bb667c1ae524', <TaskRelations.NEXT: 'next'>: '3e4275aa14014f4e8b10b1e10c7e5000', <TaskRelations.PREV: 'previous'>: None, <TaskRelations.ROOT: 'root'>: '8e77168e8948459e9bd8bb667c1ae524'}, inputs=[], outputs=['demographic data']),\n  Task(id='3e4275aa14014f4e8b10b1e10c7e5000', name='analyze demographic data to identify trends and patterns', description='Use statistical analysis and other methods to identify patterns and trends in the demographic data collected.', status=<TaskStatus.OPEN: 'open'>, type=<TaskType.TASK: 'task'>, summary=None, details=None, results=None, relations={<TaskRelations.PARENT: 'parent'>: '8e77168e8948459e9bd8bb667c1ae524', <TaskRelations.NEXT: 'next'>: '8a379c51d1244a07b64d72d3a2c694c2', <TaskRelations.PREV: 'previous'>: '2633c23b7e0448d39eea9c70f09afec5', <TaskRelations.ROOT: 'root'>: '8e77168e8948459e9bd8bb667c1ae524'}, inputs=['demographic data'], outputs=['analysis of demographic data']),\n  Task(id='8a379c51d1244a07b64d72d3a2c694c2', name='create a report summarizing the demographic information and analysis', description='Generate a report summarizing the demographic data collected and the analysis performed on that data.', status=<TaskStatus.OPEN: 'open'>, type=<TaskType.TASK: 'task'>, summary=None, details=None, results=None, relations={<TaskRelations.PARENT: 'parent'>: '8e77168e8948459e9bd8bb667c1ae524', <TaskRelations.NEXT: 'next'>: None, <TaskRelations.PREV: 'previous'>: '3e4275aa14014f4e8b10b1e10c7e5000', <TaskRelations.ROOT: 'root'>: '8e77168e8948459e9bd8bb667c1ae524'}, inputs=['demographic data', 'analysis of demographic data'], outputs=['demographic report'])])"
     },
     "execution_count": 1,
     "metadata": {},
     "output_type": "execute_result"
    }
   ],
   "source": [
    "from task_chain.storage.context_store import TaskContextStore\n",
    "from task_chain.decompose.pipeline import SimplePipelineDecomposer\n",
    "\n",
    "task_storage = TaskContextStore()\n",
    "decomposer = SimplePipelineDecomposer(task_storage)\n",
    "\n",
    "objective = \"Create a report about the demographics of the population of India\"\n",
    "\n",
    "decomposer.create_tasks(objective, verbose=True)"
   ],
   "metadata": {
    "collapsed": false,
    "pycharm": {
     "name": "#%%\n"
    },
    "ExecuteTime": {
     "end_time": "2023-05-17T06:24:18.676781500Z",
     "start_time": "2023-05-17T06:23:44.212166300Z"
    }
   }
  },
  {
   "cell_type": "markdown",
   "source": [
    "We can now view the tree structure of the tasks in the storage"
   ],
   "metadata": {
    "collapsed": false
   }
  },
  {
   "cell_type": "code",
   "execution_count": 2,
   "outputs": [
    {
     "name": "stdout",
     "output_type": "stream",
     "text": [
      "\u001B[32m┐\u001B[0m\n",
      "\u001B[32m└──\u001B[0mCreate a report about the demographics of the population of India\n",
      "\u001B[32m   \u001B[0m\u001B[33m├──\u001B[0mgather demographic data of India population\n",
      "\u001B[32m   \u001B[0m\u001B[33m├──\u001B[0manalyze demographic data to identify trends and patterns\n",
      "\u001B[32m   \u001B[0m\u001B[33m└──\u001B[0mcreate a report summarizing the demographic information and analysis\n"
     ]
    }
   ],
   "source": [
    "print(task_storage.repr_tree())"
   ],
   "metadata": {
    "collapsed": false,
    "pycharm": {
     "name": "#%%\n"
    },
    "ExecuteTime": {
     "end_time": "2023-05-17T06:24:31.139510400Z",
     "start_time": "2023-05-17T06:24:31.111865600Z"
    }
   }
  },
  {
   "cell_type": "markdown",
   "source": [
    "As the tree shows the pipeline decomposer creates a root task with a sequence of subtasks. We can access the tasks by their id. Let's first get the root id."
   ],
   "metadata": {
    "collapsed": false
   }
  },
  {
   "cell_type": "code",
   "execution_count": 3,
   "outputs": [
    {
     "name": "stdout",
     "output_type": "stream",
     "text": [
      "8e77168e8948459e9bd8bb667c1ae524\n"
     ]
    }
   ],
   "source": [
    "print(task_storage.root_id)"
   ],
   "metadata": {
    "collapsed": false,
    "pycharm": {
     "name": "#%%\n"
    },
    "ExecuteTime": {
     "end_time": "2023-05-17T06:24:35.969744200Z",
     "start_time": "2023-05-17T06:24:35.957802900Z"
    }
   }
  },
  {
   "cell_type": "markdown",
   "source": [
    "Now we can access the root task by calling the get_task() method of the storage."
   ],
   "metadata": {
    "collapsed": false
   }
  },
  {
   "cell_type": "code",
   "execution_count": 4,
   "outputs": [
    {
     "name": "stdout",
     "output_type": "stream",
     "text": [
      " \u001B[34m--------------------------------------------------------------------\u001B[39m\n",
      "\u001B[34m|\u001B[39m TASK TYPE:    \u001B[34mPIPELINE\u001B[39m                            STATUS: \u001B[34mOPEN\u001B[39m    \u001B[34m |\u001B[39m\n",
      "\u001B[34m|\u001B[39m                                                                   \u001B[34m |\u001B[39m\n",
      "\u001B[34m|\u001B[39m ID:           \u001B[34m8e77168e8948459e9bd8bb667c1ae524\u001B[39m                    \u001B[34m |\u001B[39m\n",
      "\u001B[34m|\u001B[39m                                                                   \u001B[34m |\u001B[39m\n",
      "\u001B[34m|\u001B[39m NAME:         \u001B[32mCreate a report about the demographics of the pop-\u001B[39m  \u001B[34m |\u001B[39m\n",
      "\u001B[34m|\u001B[39m \u001B[32m              ulation of India\u001B[39m                                    \u001B[34m |\u001B[39m\n",
      "\u001B[34m|\u001B[39m DESCRIPTION:  \u001B[32mGenerate a report summarizing the demographic dat-\u001B[39m  \u001B[34m |\u001B[39m\n",
      "\u001B[34m|\u001B[39m \u001B[32m              a collected and the analysis performed on that da-\u001B[39m  \u001B[34m |\u001B[39m\n",
      "\u001B[34m|\u001B[39m \u001B[32m              ta.\u001B[39m                                                 \u001B[34m |\u001B[39m\n",
      "\u001B[34m|\u001B[39m INPUTS:       \u001B[32mdemographic data, analysis of demographic data\u001B[39m      \u001B[34m |\u001B[39m\n",
      "\u001B[34m|\u001B[39m OUTPUTS:      \u001B[32mdemographic report\u001B[39m                                  \u001B[34m |\u001B[39m\n",
      " \u001B[34m--------------------------------------------------------------------\u001B[39m\n"
     ]
    }
   ],
   "source": [
    "task = task_storage.get_task(task_storage.root_id)\n",
    "print(task.colored_card_str())"
   ],
   "metadata": {
    "collapsed": false,
    "pycharm": {
     "name": "#%%\n"
    },
    "ExecuteTime": {
     "end_time": "2023-05-17T06:24:38.556001600Z",
     "start_time": "2023-05-17T06:24:38.540371Z"
    }
   }
  },
  {
   "cell_type": "markdown",
   "source": [
    "Now lets view the subtasks of the root task"
   ],
   "metadata": {
    "collapsed": false
   }
  },
  {
   "cell_type": "code",
   "execution_count": 6,
   "outputs": [
    {
     "name": "stdout",
     "output_type": "stream",
     "text": [
      " \u001B[34m--------------------------------------------------------------------\u001B[39m\n",
      "\u001B[34m|\u001B[39m TASK TYPE:    \u001B[34mTASK\u001B[39m                                STATUS: \u001B[34mOPEN\u001B[39m    \u001B[34m |\u001B[39m\n",
      "\u001B[34m|\u001B[39m                                                                   \u001B[34m |\u001B[39m\n",
      "\u001B[34m|\u001B[39m ID:           \u001B[34m2633c23b7e0448d39eea9c70f09afec5\u001B[39m                    \u001B[34m |\u001B[39m\n",
      "\u001B[34m|\u001B[39m                                                                   \u001B[34m |\u001B[39m\n",
      "\u001B[34m|\u001B[39m NAME:         \u001B[32mgather demographic data of India population\u001B[39m         \u001B[34m |\u001B[39m\n",
      "\u001B[34m|\u001B[39m DESCRIPTION:  \u001B[32mCollect data on the population of India, includin-\u001B[39m  \u001B[34m |\u001B[39m\n",
      "\u001B[34m|\u001B[39m \u001B[32m              g age, gender, ethnicity, location, and other rel-\u001B[39m  \u001B[34m |\u001B[39m\n",
      "\u001B[34m|\u001B[39m \u001B[32m              evant factors.\u001B[39m                                      \u001B[34m |\u001B[39m\n",
      "\u001B[34m|\u001B[39m INPUTS:       \u001B[32m\u001B[39m                                                    \u001B[34m |\u001B[39m\n",
      "\u001B[34m|\u001B[39m OUTPUTS:      \u001B[32mdemographic data\u001B[39m                                    \u001B[34m |\u001B[39m\n",
      " \u001B[34m--------------------------------------------------------------------\u001B[39m\n",
      " \u001B[34m--------------------------------------------------------------------\u001B[39m\n",
      "\u001B[34m|\u001B[39m TASK TYPE:    \u001B[34mTASK\u001B[39m                                STATUS: \u001B[34mOPEN\u001B[39m    \u001B[34m |\u001B[39m\n",
      "\u001B[34m|\u001B[39m                                                                   \u001B[34m |\u001B[39m\n",
      "\u001B[34m|\u001B[39m ID:           \u001B[34m3e4275aa14014f4e8b10b1e10c7e5000\u001B[39m                    \u001B[34m |\u001B[39m\n",
      "\u001B[34m|\u001B[39m                                                                   \u001B[34m |\u001B[39m\n",
      "\u001B[34m|\u001B[39m NAME:         \u001B[32manalyze demographic data to identify trends and p-\u001B[39m  \u001B[34m |\u001B[39m\n",
      "\u001B[34m|\u001B[39m \u001B[32m              atterns\u001B[39m                                             \u001B[34m |\u001B[39m\n",
      "\u001B[34m|\u001B[39m DESCRIPTION:  \u001B[32mUse statistical analysis and other methods to ide-\u001B[39m  \u001B[34m |\u001B[39m\n",
      "\u001B[34m|\u001B[39m \u001B[32m              ntify patterns and trends in the demographic data-\u001B[39m  \u001B[34m |\u001B[39m\n",
      "\u001B[34m|\u001B[39m \u001B[32m               collected.\u001B[39m                                         \u001B[34m |\u001B[39m\n",
      "\u001B[34m|\u001B[39m INPUTS:       \u001B[32mdemographic data\u001B[39m                                    \u001B[34m |\u001B[39m\n",
      "\u001B[34m|\u001B[39m OUTPUTS:      \u001B[32manalysis of demographic data\u001B[39m                        \u001B[34m |\u001B[39m\n",
      " \u001B[34m--------------------------------------------------------------------\u001B[39m\n",
      " \u001B[34m--------------------------------------------------------------------\u001B[39m\n",
      "\u001B[34m|\u001B[39m TASK TYPE:    \u001B[34mTASK\u001B[39m                                STATUS: \u001B[34mOPEN\u001B[39m    \u001B[34m |\u001B[39m\n",
      "\u001B[34m|\u001B[39m                                                                   \u001B[34m |\u001B[39m\n",
      "\u001B[34m|\u001B[39m ID:           \u001B[34m8a379c51d1244a07b64d72d3a2c694c2\u001B[39m                    \u001B[34m |\u001B[39m\n",
      "\u001B[34m|\u001B[39m                                                                   \u001B[34m |\u001B[39m\n",
      "\u001B[34m|\u001B[39m NAME:         \u001B[32mcreate a report summarizing the demographic infor-\u001B[39m  \u001B[34m |\u001B[39m\n",
      "\u001B[34m|\u001B[39m \u001B[32m              mation and analysis\u001B[39m                                 \u001B[34m |\u001B[39m\n",
      "\u001B[34m|\u001B[39m DESCRIPTION:  \u001B[32mGenerate a report summarizing the demographic dat-\u001B[39m  \u001B[34m |\u001B[39m\n",
      "\u001B[34m|\u001B[39m \u001B[32m              a collected and the analysis performed on that da-\u001B[39m  \u001B[34m |\u001B[39m\n",
      "\u001B[34m|\u001B[39m \u001B[32m              ta.\u001B[39m                                                 \u001B[34m |\u001B[39m\n",
      "\u001B[34m|\u001B[39m INPUTS:       \u001B[32mdemographic data, analysis of demographic data\u001B[39m      \u001B[34m |\u001B[39m\n",
      "\u001B[34m|\u001B[39m OUTPUTS:      \u001B[32mdemographic report\u001B[39m                                  \u001B[34m |\u001B[39m\n",
      " \u001B[34m--------------------------------------------------------------------\u001B[39m\n"
     ]
    }
   ],
   "source": [
    "subtasks = task_storage.get_children(task_storage.root_id)\n",
    "for subtask in subtasks:\n",
    "    print(subtask.colored_card_str())"
   ],
   "metadata": {
    "collapsed": false,
    "ExecuteTime": {
     "end_time": "2023-05-17T06:27:15.756570700Z",
     "start_time": "2023-05-17T06:27:15.740946500Z"
    }
   }
  },
  {
   "cell_type": "markdown",
   "source": [
    "# Decompose and assign Agents\n",
    "The main purpose of task decomposition is to break down a complex objective into simple units of work that each can be executed by a single agent. Therefore, we can add a list of available agents to the decomposer. The decomposer will then assign the subtasks to the agents.\n",
    "The schema for this is similar to the concept of providing tools to langchain agents. Simply by defining a name and a description for each agent.\n",
    "\n",
    "For the later loading of agents we will have to define register agents to the agent registry. But for now we can simply use a list of dictionaries to define the agents.\n"
   ],
   "metadata": {
    "collapsed": false
   }
  },
  {
   "cell_type": "code",
   "execution_count": 2,
   "outputs": [],
   "source": [
    "agents = [\n",
    "    {\n",
    "        \"name\": \"Research_Agent\",\n",
    "        \"description\": \"An agent useful for performing data gathering on the internet\"\n",
    "    },\n",
    "    {\n",
    "        \"name\": \"Data_Analysis_Agent\",\n",
    "        \"description\": \"An agent useful for performing data analysis\"\n",
    "    },\n",
    "    {\n",
    "        \"name\": \"Data_Visualization_Agent\",\n",
    "        \"description\": \"An agent useful for performing data visualization\"\n",
    "    },\n",
    "    {\n",
    "        \"name\": \"Report_Agent\",\n",
    "        \"description\": \"An agent useful for creating reports\"\n",
    "    },\n",
    "    {\n",
    "        \"name\": \"Fake_Agent\",\n",
    "        \"description\": \"An agent useful for nothing\"\n",
    "    }\n",
    "]"
   ],
   "metadata": {
    "collapsed": false,
    "ExecuteTime": {
     "end_time": "2023-05-17T06:57:19.533876600Z",
     "start_time": "2023-05-17T06:57:19.518251100Z"
    }
   }
  },
  {
   "cell_type": "markdown",
   "source": [
    "## Adding Agents to Decomposer\n",
    "Now, let's rerun the decomposition while adding the agents to the decomposer."
   ],
   "metadata": {
    "collapsed": false
   }
  },
  {
   "cell_type": "code",
   "execution_count": 3,
   "outputs": [
    {
     "name": "stdout",
     "output_type": "stream",
     "text": [
      "\n",
      "\n",
      "\u001B[1m> Entering new LLMChain chain...\u001B[0m\n",
      "Prompt after formatting:\n",
      "\u001B[32;1m\u001B[1;3m\n",
      "Breakdown the following task into a sequence of subtasks. Define the input and output keys of each task as lowercase strings.\n",
      "ROOT TASK: \n",
      "Create a report about the demographics of the population of India\n",
      "\n",
      "\n",
      "Return your respond as string in the following format without any introducing or describing text:\n",
      "\n",
      "Name of Root Task:\n",
      "    - Name of Subtask 1\n",
      "    - Name of Subtask 2\n",
      "    ...\n",
      "    - Name of Subtask n\n",
      "    \n",
      "\n",
      "\n",
      "Additional instructions:\n",
      "Create a flat list as shown above do not break subtasks down further.\n",
      "Try to break down into as few subtasks as possible.\n",
      "Begin!\n",
      "\u001B[0m\n",
      "\n",
      "\u001B[1m> Finished chain.\u001B[0m\n",
      "\n",
      "\n",
      "\u001B[1m> Entering new LLMChain chain...\u001B[0m\n",
      "Prompt after formatting:\n",
      "\u001B[32;1m\u001B[1;3m\n",
      "Based on the following sequence of subtasks, define the input and output keys of each task as lowercase strings with underscores and\n",
      "add a description for each subtask.\n",
      "TASK LIST: \n",
      "root task:\n",
      "    - gather demographic data on India's population\n",
      "    - analyze data to identify key demographic trends\n",
      "    - create report summarizing demographic trends and statistics\n",
      "\n",
      "input keys:\n",
      "- demographic data on India's population\n",
      "\n",
      "output keys:\n",
      "- report on India's demographic trends and statistics\n",
      "\n",
      "\n",
      "The response should be a JSON object with the following schema:\n",
      "```\n",
      "{\n",
      "    \"tasks\": [\n",
      "        {\n",
      "            \"name\": \"Name of the task (Title Case string).\",\n",
      "            \"description\": \"Description of the task.\",\n",
      "            \"inputs\": [\n",
      "                \"List of input key/s (underscore lowercase string)\"\n",
      "            ],\n",
      "            \"outputs\": [\n",
      "                \"List of output key/s (underscore lowercase string).\"\n",
      "            ]\n",
      "        }\n",
      "    ]\n",
      "}\n",
      "```\n",
      "The response should be compatible with Python's json.loads function.\n",
      "\n",
      "\n",
      "Additional instructions:\n",
      "Do not define the root task only the subtasks.\n",
      "Begin!\n",
      "\u001B[0m\n",
      "\n",
      "\u001B[1m> Finished chain.\u001B[0m\n",
      "\n",
      "\n",
      "\u001B[1m> Entering new LLMChain chain...\u001B[0m\n",
      "Prompt after formatting:\n",
      "\u001B[32;1m\u001B[1;3m\n",
      "Based on the following sequence of subtasks, specify the parent task by defining the input and output keys of each task as lowercase strings with undersores.\n",
      "TASK LIST:\n",
      "# Tasks:\n",
      "- gather demographic data on India's population:\n",
      "    - Description: Collect data on India's population including age, gender, ethnicity, and geographic location.\n",
      "    - Inputs: \n",
      "    - Outputs: \"demographic data on India's population\"\n",
      "\n",
      "- analyze data to identify key demographic trends:\n",
      "    - Description: Use statistical analysis to identify patterns and trends in India's population data.\n",
      "    - Inputs: \"demographic data on India's population\"\n",
      "    - Outputs: \n",
      "\n",
      "- create report summarizing demographic trends and statistics:\n",
      "    - Description: Compile the findings from the data analysis into a report that summarizes the demographic trends and statistics for India's population.\n",
      "    - Inputs: \"demographic data on India's population\"\n",
      "    - Outputs: \"report on India's demographic trends and statistics\"\n",
      "\n",
      "\n",
      "\n",
      "\n",
      "The response should be a JSON object with the following schema:\n",
      "```\n",
      "{\n",
      "  \"name\": \"Name of the task (Title Case string).\",\n",
      "  \"description\": \"Description of the task.\",\n",
      "  \"inputs\": [\n",
      "    \"List of input key/s (underscore lowercase string)\"\n",
      "  ],\n",
      "  \"outputs\": [\n",
      "    \"List of output key/s (underscore lowercase string).\"\n",
      "  ]\n",
      "}\n",
      "```\n",
      "The response should be compatible with Python's json.loads function.\n",
      "\n",
      "\n",
      "Additional instructions:\n",
      "Do not define the subtasks only the parent task.\n",
      "Known information about the parent task: Create a report about the demographics of the population of India \n",
      "Begin! \n",
      "\u001B[0m\n",
      "\n",
      "\u001B[1m> Finished chain.\u001B[0m\n",
      "\n",
      "\n",
      "\u001B[1m> Entering new LLMChain chain...\u001B[0m\n",
      "Prompt after formatting:\n",
      "\u001B[32;1m\u001B[1;3m\n",
      "For the following task select the Agent that fits best for successfully executing the task.\n",
      "You should select a more specialized Agent over a more general one. \n",
      "TASK:\n",
      "    Task: gather demographic data on India's population\n",
      "    Description: Collect data on India's population including age, gender, ethnicity, and geographic location.\n",
      "    Inputs: []\n",
      "    Outputs: [\"demographic data on India's population\"]\n",
      "\n",
      "\n",
      "AGENTS:\n",
      "1. Name: Research_Agent, Description: An agent useful for performing data gathering on the internet\n",
      "2. Name: Data_Analysis_Agent, Description: An agent useful for performing data analysis\n",
      "3. Name: Data_Visualization_Agent, Description: An agent useful for performing data visualization\n",
      "4. Name: Report_Agent, Description: An agent useful for creating reports\n",
      "5. Name: Fake_Agent, Description: An agent useful for nothing\n",
      "\n",
      "\n",
      "The response should be a JSON object with the following schema:\n",
      "```\n",
      "{\n",
      " \"choice\": \"index of the chosen option (integer).\",\n",
      " \"reason\": \"Reason for the choice (string).\"\n",
      "}\n",
      "```\n",
      "The response should be compatible with Python's json.loads function.\n",
      "\n",
      "\n",
      "Additional instructions:\n",
      "Begin!\n",
      "\u001B[0m\n",
      "\n",
      "\u001B[1m> Finished chain.\u001B[0m\n",
      "\n",
      "\n",
      "\u001B[1m> Entering new LLMChain chain...\u001B[0m\n",
      "Prompt after formatting:\n",
      "\u001B[32;1m\u001B[1;3m\n",
      "For the following task select the Agent that fits best for successfully executing the task.\n",
      "You should select a more specialized Agent over a more general one. \n",
      "TASK:\n",
      "    Task: analyze data to identify key demographic trends\n",
      "    Description: Use statistical analysis to identify patterns and trends in India's population data.\n",
      "    Inputs: [\"demographic data on India's population\"]\n",
      "    Outputs: []\n",
      "\n",
      "\n",
      "AGENTS:\n",
      "1. Name: Research_Agent, Description: An agent useful for performing data gathering on the internet\n",
      "2. Name: Data_Analysis_Agent, Description: An agent useful for performing data analysis\n",
      "3. Name: Data_Visualization_Agent, Description: An agent useful for performing data visualization\n",
      "4. Name: Report_Agent, Description: An agent useful for creating reports\n",
      "5. Name: Fake_Agent, Description: An agent useful for nothing\n",
      "\n",
      "\n",
      "The response should be a JSON object with the following schema:\n",
      "```\n",
      "{\n",
      " \"choice\": \"index of the chosen option (integer).\",\n",
      " \"reason\": \"Reason for the choice (string).\"\n",
      "}\n",
      "```\n",
      "The response should be compatible with Python's json.loads function.\n",
      "\n",
      "\n",
      "Additional instructions:\n",
      "Begin!\n",
      "\u001B[0m\n",
      "\n",
      "\u001B[1m> Finished chain.\u001B[0m\n",
      "\n",
      "\n",
      "\u001B[1m> Entering new LLMChain chain...\u001B[0m\n",
      "Prompt after formatting:\n",
      "\u001B[32;1m\u001B[1;3m\n",
      "For the following task select the Agent that fits best for successfully executing the task.\n",
      "You should select a more specialized Agent over a more general one. \n",
      "TASK:\n",
      "    Task: create report summarizing demographic trends and statistics\n",
      "    Description: Compile the findings from the data analysis into a report that summarizes the demographic trends and statistics for India's population.\n",
      "    Inputs: [\"demographic data on India's population\"]\n",
      "    Outputs: [\"report on India's demographic trends and statistics\"]\n",
      "\n",
      "\n",
      "AGENTS:\n",
      "1. Name: Research_Agent, Description: An agent useful for performing data gathering on the internet\n",
      "2. Name: Data_Analysis_Agent, Description: An agent useful for performing data analysis\n",
      "3. Name: Data_Visualization_Agent, Description: An agent useful for performing data visualization\n",
      "4. Name: Report_Agent, Description: An agent useful for creating reports\n",
      "5. Name: Fake_Agent, Description: An agent useful for nothing\n",
      "\n",
      "\n",
      "The response should be a JSON object with the following schema:\n",
      "```\n",
      "{\n",
      " \"choice\": \"index of the chosen option (integer).\",\n",
      " \"reason\": \"Reason for the choice (string).\"\n",
      "}\n",
      "```\n",
      "The response should be compatible with Python's json.loads function.\n",
      "\n",
      "\n",
      "Additional instructions:\n",
      "Begin!\n",
      "\u001B[0m\n",
      "\n",
      "\u001B[1m> Finished chain.\u001B[0m\n",
      " \u001B[34m--------------------------------------------------------------------\u001B[39m\n",
      "\u001B[34m|\u001B[39m TASK TYPE:    \u001B[34mTASK\u001B[39m                                STATUS: \u001B[34mOPEN\u001B[39m    \u001B[34m |\u001B[39m\n",
      "\u001B[34m|\u001B[39m                                                                   \u001B[34m |\u001B[39m\n",
      "\u001B[34m|\u001B[39m ID:           \u001B[34m25dd8425ace94ee7ab7eefad61fc75dd\u001B[39m                    \u001B[34m |\u001B[39m\n",
      "\u001B[34m|\u001B[39m                                                                   \u001B[34m |\u001B[39m\n",
      "\u001B[34m|\u001B[39m NAME:         \u001B[32mgather demographic data on India's population\u001B[39m       \u001B[34m |\u001B[39m\n",
      "\u001B[34m|\u001B[39m DESCRIPTION:  \u001B[32mCollect data on India's population including age,-\u001B[39m  \u001B[34m |\u001B[39m\n",
      "\u001B[34m|\u001B[39m \u001B[32m               gender, ethnicity, and geographic location.\u001B[39m        \u001B[34m |\u001B[39m\n",
      "\u001B[34m|\u001B[39m INPUTS:       \u001B[32m\u001B[39m                                                    \u001B[34m |\u001B[39m\n",
      "\u001B[34m|\u001B[39m OUTPUTS:      \u001B[32mdemographic data on India's population\u001B[39m              \u001B[34m |\u001B[39m\n",
      "\u001B[34m|\u001B[39m AGENT:        \u001B[34mResearch_Agent\u001B[39m                                      \u001B[34m |\u001B[39m\n",
      " \u001B[34m--------------------------------------------------------------------\u001B[39m\n",
      " \u001B[34m--------------------------------------------------------------------\u001B[39m\n",
      "\u001B[34m|\u001B[39m TASK TYPE:    \u001B[34mTASK\u001B[39m                                STATUS: \u001B[34mOPEN\u001B[39m    \u001B[34m |\u001B[39m\n",
      "\u001B[34m|\u001B[39m                                                                   \u001B[34m |\u001B[39m\n",
      "\u001B[34m|\u001B[39m ID:           \u001B[34m1ee9ed4b75c540658c11fc0e742b9a0d\u001B[39m                    \u001B[34m |\u001B[39m\n",
      "\u001B[34m|\u001B[39m                                                                   \u001B[34m |\u001B[39m\n",
      "\u001B[34m|\u001B[39m NAME:         \u001B[32manalyze data to identify key demographic trends\u001B[39m     \u001B[34m |\u001B[39m\n",
      "\u001B[34m|\u001B[39m DESCRIPTION:  \u001B[32mUse statistical analysis to identify patterns and-\u001B[39m  \u001B[34m |\u001B[39m\n",
      "\u001B[34m|\u001B[39m \u001B[32m               trends in India's population data.\u001B[39m                 \u001B[34m |\u001B[39m\n",
      "\u001B[34m|\u001B[39m INPUTS:       \u001B[32mdemographic data on India's population\u001B[39m              \u001B[34m |\u001B[39m\n",
      "\u001B[34m|\u001B[39m OUTPUTS:      \u001B[32m\u001B[39m                                                    \u001B[34m |\u001B[39m\n",
      "\u001B[34m|\u001B[39m AGENT:        \u001B[34mData_Analysis_Agent\u001B[39m                                 \u001B[34m |\u001B[39m\n",
      " \u001B[34m--------------------------------------------------------------------\u001B[39m\n",
      " \u001B[34m--------------------------------------------------------------------\u001B[39m\n",
      "\u001B[34m|\u001B[39m TASK TYPE:    \u001B[34mTASK\u001B[39m                                STATUS: \u001B[34mOPEN\u001B[39m    \u001B[34m |\u001B[39m\n",
      "\u001B[34m|\u001B[39m                                                                   \u001B[34m |\u001B[39m\n",
      "\u001B[34m|\u001B[39m ID:           \u001B[34m478a4ea9548247659b5ec8e8aa2a0b79\u001B[39m                    \u001B[34m |\u001B[39m\n",
      "\u001B[34m|\u001B[39m                                                                   \u001B[34m |\u001B[39m\n",
      "\u001B[34m|\u001B[39m NAME:         \u001B[32mcreate report summarizing demographic trends and -\u001B[39m  \u001B[34m |\u001B[39m\n",
      "\u001B[34m|\u001B[39m \u001B[32m              statistics\u001B[39m                                          \u001B[34m |\u001B[39m\n",
      "\u001B[34m|\u001B[39m DESCRIPTION:  \u001B[32mCompile the findings from the data analysis into -\u001B[39m  \u001B[34m |\u001B[39m\n",
      "\u001B[34m|\u001B[39m \u001B[32m              a report that summarizes the demographic trends a-\u001B[39m  \u001B[34m |\u001B[39m\n",
      "\u001B[34m|\u001B[39m \u001B[32m              nd statistics for India's population.\u001B[39m               \u001B[34m |\u001B[39m\n",
      "\u001B[34m|\u001B[39m INPUTS:       \u001B[32mdemographic data on India's population\u001B[39m              \u001B[34m |\u001B[39m\n",
      "\u001B[34m|\u001B[39m OUTPUTS:      \u001B[32mreport on India's demographic trends and statisti-\u001B[39m  \u001B[34m |\u001B[39m\n",
      "\u001B[34m|\u001B[39m \u001B[32m              cs\u001B[39m                                                  \u001B[34m |\u001B[39m\n",
      "\u001B[34m|\u001B[39m AGENT:        \u001B[34mReport_Agent\u001B[39m                                        \u001B[34m |\u001B[39m\n",
      " \u001B[34m--------------------------------------------------------------------\u001B[39m\n"
     ]
    }
   ],
   "source": [
    "from task_chain.storage.context_store import TaskContextStore\n",
    "from task_chain.decompose.pipeline import SimplePipelineDecomposer\n",
    "\n",
    "task_storage = TaskContextStore()\n",
    "decomposer = SimplePipelineDecomposer(task_storage, agents=agents)\n",
    "\n",
    "objective = \"Create a report about the demographics of the population of India\"\n",
    "\n",
    "decomposer.create_tasks(objective)\n",
    "\n",
    "subtasks = task_storage.get_children(task_storage.root_id)\n",
    "for subtask in subtasks:\n",
    "    print(subtask.colored_card_str())"
   ],
   "metadata": {
    "collapsed": false,
    "ExecuteTime": {
     "end_time": "2023-05-17T06:58:15.789558900Z",
     "start_time": "2023-05-17T06:57:20.935235300Z"
    }
   }
  },
  {
   "cell_type": "markdown",
   "source": [
    "# Persist Tasks\n",
    "We can persist the tasks in the storage to a file. Because task_chain heavily relies on the task composition, we have all the information and states needed to load or recreate a project, pipeline, etc. within task_storage."
   ],
   "metadata": {
    "collapsed": false
   }
  },
  {
   "cell_type": "code",
   "execution_count": 4,
   "outputs": [
    {
     "name": "stdout",
     "output_type": "stream",
     "text": [
      "Persisted task store to ./storage_showcases/demographics_india.json\n"
     ]
    }
   ],
   "source": [
    "persist_path = \"./storage_showcases/demographics_india.json\"\n",
    "task_storage.persist(persist_path)"
   ],
   "metadata": {
    "collapsed": false,
    "ExecuteTime": {
     "end_time": "2023-05-17T06:59:16.972686700Z",
     "start_time": "2023-05-17T06:59:16.957061200Z"
    }
   }
  }
 ],
 "metadata": {
  "kernelspec": {
   "display_name": "Python 3",
   "language": "python",
   "name": "python3"
  },
  "language_info": {
   "codemirror_mode": {
    "name": "ipython",
    "version": 2
   },
   "file_extension": ".py",
   "mimetype": "text/x-python",
   "name": "python",
   "nbconvert_exporter": "python",
   "pygments_lexer": "ipython2",
   "version": "2.7.6"
  }
 },
 "nbformat": 4,
 "nbformat_minor": 0
}
