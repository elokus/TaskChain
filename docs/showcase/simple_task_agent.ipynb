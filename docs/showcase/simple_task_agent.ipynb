{
 "cells": [
  {
   "cell_type": "markdown",
   "source": [
    "# Running a Simple Task Agent"
   ],
   "metadata": {
    "collapsed": false
   }
  },
  {
   "cell_type": "code",
   "execution_count": 6,
   "metadata": {
    "collapsed": true,
    "ExecuteTime": {
     "end_time": "2023-05-15T12:36:20.784647100Z",
     "start_time": "2023-05-15T12:36:20.729944900Z"
    }
   },
   "outputs": [],
   "source": [
    "from task_chain.executor.simple import SimpleTaskManager\n",
    "from task_chain.task.node import Task\n",
    "from task_chain.schema.task import TaskRelations\n",
    "\n",
    "\n",
    "task = Task(\n",
    "    name=\"Find the current population of India\",\n",
    "    description=\"Find the current population of Tuikibilistan\",\n",
    "    relations = {TaskRelations.AGENT: \"SearchAgent\"},\n",
    "    inputs = [\"query\"],\n",
    "    outputs = [\"population\"],\n",
    ")\n",
    "\n",
    "resources = {\n",
    "    \"query\": \"What is the current population of Tuikibilistan?\",\n",
    "}\n",
    "\n",
    "task.relations[TaskRelations.AGENT] = \"SearchAgent\""
   ]
  },
  {
   "cell_type": "code",
   "execution_count": 2,
   "outputs": [],
   "source": [
    "task_manager = SimpleTaskManager(\n",
    "    task=task,\n",
    "    resources=resources,\n",
    "    verbose=True,\n",
    ")"
   ],
   "metadata": {
    "collapsed": false,
    "ExecuteTime": {
     "end_time": "2023-05-15T10:44:44.618953900Z",
     "start_time": "2023-05-15T10:44:44.603387700Z"
    }
   }
  },
  {
   "cell_type": "code",
   "execution_count": 3,
   "outputs": [
    {
     "name": "stdout",
     "output_type": "stream",
     "text": [
      "\n",
      "\n",
      "\u001B[1m> Entering new SimpleTaskManager chain...\u001B[0m\n",
      "starting [Task Manager Role: execution] Task: Find the current population of India\n",
      "running startup sequence...\n",
      "finished startup sequence for [Task Manager Role: execution] Task: Find the current population of India.\n",
      "\n",
      "\n",
      "\u001B[1m> Entering new AgentExecutor chain...\u001B[0m\n",
      "\u001B[32;1m\u001B[1;3mI'm not sure if Tuikibilistan is a real country. I should search for it first.\n",
      "Action: Search\n",
      "Action Input: \"Tuikibilistan population\"\u001B[0m\n",
      "Observation: \u001B[36;1m\u001B[1;3mBy the end of the 8th century the population of the empire was around 7,000,000, a figure that climbed to over 12,000,000 people by 1025 AD. The numbers began ...\u001B[0m\n",
      "Thought:\u001B[32;1m\u001B[1;3mThat search result didn't provide me with a clear answer to my question. I should report an issue.\n",
      "Action: report_issue\n",
      "Action Input: \"I searched for Tuikibilistan population but couldn't find a clear answer.\"\u001B[0m\n",
      "Observation: \u001B[33;1m\u001B[1;3mproblem=\"I searched for Tuikibilistan population but couldn't find a clear answer.\" recommendation=None\u001B[0m\n",
      "\n",
      "\u001B[1m> Finished chain.\u001B[0m\n",
      "running shutdown sequence ...\n",
      "finished shutdown sequence for [Task Manager Role: execution] Task: Find the current population of India.\n"
     ]
    }
   ],
   "source": [
    "result, task = task_manager.execute()"
   ],
   "metadata": {
    "collapsed": false,
    "ExecuteTime": {
     "end_time": "2023-05-15T10:44:57.985279300Z",
     "start_time": "2023-05-15T10:44:45.432279100Z"
    }
   }
  },
  {
   "cell_type": "code",
   "execution_count": 4,
   "outputs": [
    {
     "data": {
      "text/plain": "Task(id='db2b24a18efe48c8b3bb1013d3722e5d', name='Find the current population of India', description='Find the current population of Tuikibilistan', status=<TaskStatus.ISSUE: 'issue'>, type=<TaskType.TASK: 'task'>, summary=None, details=None, result=None, relations={<TaskRelations.AGENT: 'agent'>: 'SearchAgent'}, inputs=['query'], outputs=['population'])"
     },
     "execution_count": 4,
     "metadata": {},
     "output_type": "execute_result"
    }
   ],
   "source": [
    "task"
   ],
   "metadata": {
    "collapsed": false,
    "ExecuteTime": {
     "end_time": "2023-05-15T10:45:06.931034500Z",
     "start_time": "2023-05-15T10:45:06.919061400Z"
    }
   }
  },
  {
   "cell_type": "code",
   "execution_count": 13,
   "outputs": [
    {
     "name": "stdout",
     "output_type": "stream",
     "text": [
      "i am a string 1\n",
      "i am a string a\n",
      "i am a string 2\n",
      "i am a string b\n"
     ]
    }
   ],
   "source": [
    "from pydantic import BaseModel, Field\n",
    "from typing import Union, Annotated, Sequence\n",
    "\n",
    "ListItem = Annotated[Union[str, int], Field(descriminator=\"type\")]\n",
    "\n",
    "class BaseList(BaseModel):\n",
    "    list: Sequence[ListItem]\n",
    "\n",
    "\n",
    "\n",
    "ls = [1, \"a\", 2, \"b\"]\n",
    "\n",
    "mixin = BaseList(list=ls)\n",
    "\n",
    "for i in mixin.list:\n",
    "    if isinstance(i, str):\n",
    "        print(\"i am a string\", i)\n",
    "    elif isinstance(i, int):\n",
    "        print(\"i am an integer\",i)"
   ],
   "metadata": {
    "collapsed": false,
    "ExecuteTime": {
     "end_time": "2023-05-15T07:44:41.600612200Z",
     "start_time": "2023-05-15T07:44:41.587447900Z"
    }
   }
  },
  {
   "cell_type": "code",
   "execution_count": 1,
   "outputs": [],
   "source": [
    "from task_chain.agents.agent_registry import AgentRegistry\n",
    "\n",
    "registry = AgentRegistry()\n",
    "\n",
    "agent = registry.load(\"SearchAgent\")"
   ],
   "metadata": {
    "collapsed": false,
    "ExecuteTime": {
     "end_time": "2023-05-15T10:06:49.714398700Z",
     "start_time": "2023-05-15T10:06:47.611917500Z"
    }
   }
  },
  {
   "cell_type": "code",
   "execution_count": 3,
   "outputs": [
    {
     "data": {
      "text/plain": "'The population of India is over 1.425 billion.'"
     },
     "execution_count": 3,
     "metadata": {},
     "output_type": "execute_result"
    }
   ],
   "source": [
    "agent.run(input=\"What is the population of India?\")"
   ],
   "metadata": {
    "collapsed": false,
    "ExecuteTime": {
     "end_time": "2023-05-15T09:18:34.867043600Z",
     "start_time": "2023-05-15T09:18:19.877140300Z"
    }
   }
  },
  {
   "cell_type": "code",
   "execution_count": null,
   "outputs": [],
   "source": [
    "from langchain.agents import Tool, AgentExecutor, BaseMultiActionAgent, AgentType\n",
    "from langchain import OpenAI, SerpAPIWrapper\n",
    "from langchain.agents import initialize_agent\n",
    "from task_chain.llm import get_basic_llm\n",
    "\n",
    "search = SerpAPIWrapper()\n",
    "tools = [\n",
    "    Tool(name=\"Search\", func=search.run, description=\"useful for searching the web for information\"),\n",
    "]\n",
    "\n",
    "agent = initialize_agent(\n",
    "    tools=tools,\n",
    "    llm=get_basic_llm(),\n",
    "    agent=AgentType.ZERO_SHOT_REACT_DESCRIPTION,\n",
    "    verbose=True\n",
    ")"
   ],
   "metadata": {
    "collapsed": false
   }
  },
  {
   "cell_type": "code",
   "execution_count": 1,
   "outputs": [
    {
     "name": "stdout",
     "output_type": "stream",
     "text": [
      "\n",
      "\n",
      "\u001B[1m> Entering new LLMChain chain...\u001B[0m\n",
      "\n",
      "\u001B[1m> Finished chain.\u001B[0m\n",
      "\n",
      "\n",
      "\u001B[1m> Entering new LLMChain chain...\u001B[0m\n",
      "\n",
      "\u001B[1m> Finished chain.\u001B[0m\n",
      "tasks=[PredictTask(name='analyze population data to determine demographics', description='Process the population data to extract demographic information.', inputs=['population data'], outputs=['demographic data']), PredictTask(name='create visual representations of demographic data', description='Create visual representations of the demographic data.', inputs=['demographic data'], outputs=['visual representations']), PredictTask(name='compile report with demographic data and visual representations', description='Combine the demographic data and visual representations into a report.', inputs=['demographic data', 'visual representations'], outputs=['report on demographics of tukibilistan'])]\n",
      "\n",
      "\n",
      "\u001B[1m> Entering new LLMChain chain...\u001B[0m\n",
      "\n",
      "\u001B[1m> Finished chain.\u001B[0m\n"
     ]
    }
   ],
   "source": [
    "from task_chain.decompose.pipeline import SimplePipelineDecomposer\n",
    "from task_chain.storage.task.context_store import TaskContextStore\n",
    "from nest_asyncio import apply as enable_asyncio\n",
    "\n",
    "enable_asyncio()\n",
    "\n",
    "\n",
    "task_storage = TaskContextStore()\n",
    "decomposer = SimplePipelineDecomposer(\n",
    "    storage_context=task_storage,\n",
    "    objective=\"Create a report about the demographics of Tukibilistan\",\n",
    ")\n",
    "\n",
    "task, subtasks = decomposer.create_tasks(\n",
    "    verbose=True,\n",
    "    run_async=True,\n",
    ")\n"
   ],
   "metadata": {
    "collapsed": false
   }
  },
  {
   "cell_type": "code",
   "execution_count": 2,
   "outputs": [
    {
     "name": "stdout",
     "output_type": "stream",
     "text": [
      "\u001B[32m┐\u001B[0m\n",
      "\u001B[32m└──\u001B[0mCreate report on demographics of Tukibilistan\n",
      "\u001B[32m   \u001B[0m\u001B[33m├──\u001B[0manalyze population data to determine demographics\n",
      "\u001B[32m   \u001B[0m\u001B[33m├──\u001B[0mcreate visual representations of demographic data\n",
      "\u001B[32m   \u001B[0m\u001B[33m└──\u001B[0mcompile report with demographic data and visual representations\n"
     ]
    }
   ],
   "source": [
    "print(task_storage.repr_tree())"
   ],
   "metadata": {
    "collapsed": false,
    "ExecuteTime": {
     "end_time": "2023-05-15T11:14:55.186647Z",
     "start_time": "2023-05-15T11:14:55.171011600Z"
    }
   }
  },
  {
   "cell_type": "code",
   "execution_count": 3,
   "outputs": [
    {
     "data": {
      "text/plain": "{0: 'f6974e4e2c9f4620be51935594e87dca',\n 1: '44027486e374479fb04ce2db217d1e18',\n 2: '5d65f0f93af04c64ae6ae7fadfbf3113',\n 3: '37acad685e4a48c59866ff3e7e7cca47'}"
     },
     "execution_count": 3,
     "metadata": {},
     "output_type": "execute_result"
    }
   ],
   "source": [
    "task_storage.task_network.all_tasks"
   ],
   "metadata": {
    "collapsed": false,
    "ExecuteTime": {
     "end_time": "2023-05-15T11:16:25.170438600Z",
     "start_time": "2023-05-15T11:16:25.123051Z"
    }
   }
  },
  {
   "cell_type": "code",
   "execution_count": 4,
   "outputs": [
    {
     "data": {
      "text/plain": "{'all_tasks': {0: 'f6974e4e2c9f4620be51935594e87dca',\n  1: '44027486e374479fb04ce2db217d1e18',\n  2: '5d65f0f93af04c64ae6ae7fadfbf3113',\n  3: '37acad685e4a48c59866ff3e7e7cca47'},\n 'root_tasks': {0: 'f6974e4e2c9f4620be51935594e87dca'},\n 'id_to_children': {'f6974e4e2c9f4620be51935594e87dca': ['44027486e374479fb04ce2db217d1e18',\n   '5d65f0f93af04c64ae6ae7fadfbf3113',\n   '37acad685e4a48c59866ff3e7e7cca47'],\n  '44027486e374479fb04ce2db217d1e18': [],\n  '5d65f0f93af04c64ae6ae7fadfbf3113': [],\n  '37acad685e4a48c59866ff3e7e7cca47': []},\n 'issue_to_id': {}}"
     },
     "execution_count": 4,
     "metadata": {},
     "output_type": "execute_result"
    }
   ],
   "source": [
    "dict(task_storage.task_network)"
   ],
   "metadata": {
    "collapsed": false,
    "ExecuteTime": {
     "end_time": "2023-05-15T11:16:38.011728100Z",
     "start_time": "2023-05-15T11:16:38.011728100Z"
    }
   }
  },
  {
   "cell_type": "code",
   "execution_count": 6,
   "outputs": [
    {
     "data": {
      "text/plain": "{'f6974e4e2c9f4620be51935594e87dca': {'id': 'f6974e4e2c9f4620be51935594e87dca',\n  'name': 'Create report on demographics of Tukibilistan',\n  'description': 'Process the population data to extract demographic information, create visual representations of the demographic data, and combine the demographic data and visual representations into a report about the demographics of Tukibilistan.',\n  'status': <TaskStatus.OPEN: 'open'>,\n  'type': <TaskType.PIPELINE: 'pipeline'>,\n  'summary': 'Name of Root Task:\\n    - Extract data on Tukibilistan population, Inputs: None, Outputs: population data\\n    - Analyze population data to determine demographics, Inputs: population data, Outputs: demographic data\\n    - Create visual representations of demographic data, Inputs: demographic data, Outputs: visual representations\\n    - Compile report with demographic data and visual representations, Inputs: demographic data, visual representations, Outputs: report on demographics of Tukibilistan\\n\\nReduced sequence of subtasks:\\n    - Analyze population data to determine demographics, Inputs: population data, Outputs: demographic data\\n    - Create visual representations of demographic data, Inputs: demographic data, Outputs: visual representations\\n    - Compile report with demographic data and visual representations, Inputs: demographic data, visual representations, Outputs: report on demographics of Tukibilistan',\n  'details': None,\n  'result': None,\n  'relations': {},\n  'inputs': ['population data'],\n  'outputs': ['report on demographics of tukibilistan']},\n '44027486e374479fb04ce2db217d1e18': {'id': '44027486e374479fb04ce2db217d1e18',\n  'name': 'analyze population data to determine demographics',\n  'description': 'Process the population data to extract demographic information.',\n  'status': <TaskStatus.OPEN: 'open'>,\n  'type': <TaskType.TASK: 'task'>,\n  'summary': None,\n  'details': None,\n  'result': None,\n  'relations': {<TaskRelations.PARENT: 'parent'>: 'f6974e4e2c9f4620be51935594e87dca',\n   <TaskRelations.NEXT: 'next'>: '5d65f0f93af04c64ae6ae7fadfbf3113',\n   <TaskRelations.PREV: 'previous'>: None,\n   <TaskRelations.ROOT: 'root'>: 'f6974e4e2c9f4620be51935594e87dca'},\n  'inputs': ['population data'],\n  'outputs': ['demographic data']},\n '5d65f0f93af04c64ae6ae7fadfbf3113': {'id': '5d65f0f93af04c64ae6ae7fadfbf3113',\n  'name': 'create visual representations of demographic data',\n  'description': 'Create visual representations of the demographic data.',\n  'status': <TaskStatus.OPEN: 'open'>,\n  'type': <TaskType.TASK: 'task'>,\n  'summary': None,\n  'details': None,\n  'result': None,\n  'relations': {<TaskRelations.PARENT: 'parent'>: 'f6974e4e2c9f4620be51935594e87dca',\n   <TaskRelations.NEXT: 'next'>: '37acad685e4a48c59866ff3e7e7cca47',\n   <TaskRelations.PREV: 'previous'>: '44027486e374479fb04ce2db217d1e18',\n   <TaskRelations.ROOT: 'root'>: 'f6974e4e2c9f4620be51935594e87dca'},\n  'inputs': ['demographic data'],\n  'outputs': ['visual representations']},\n '37acad685e4a48c59866ff3e7e7cca47': {'id': '37acad685e4a48c59866ff3e7e7cca47',\n  'name': 'compile report with demographic data and visual representations',\n  'description': 'Combine the demographic data and visual representations into a report.',\n  'status': <TaskStatus.OPEN: 'open'>,\n  'type': <TaskType.TASK: 'task'>,\n  'summary': None,\n  'details': None,\n  'result': None,\n  'relations': {<TaskRelations.PARENT: 'parent'>: 'f6974e4e2c9f4620be51935594e87dca',\n   <TaskRelations.NEXT: 'next'>: None,\n   <TaskRelations.PREV: 'previous'>: '5d65f0f93af04c64ae6ae7fadfbf3113',\n   <TaskRelations.ROOT: 'root'>: 'f6974e4e2c9f4620be51935594e87dca'},\n  'inputs': ['demographic data', 'visual representations'],\n  'outputs': ['report on demographics of tukibilistan']}}"
     },
     "execution_count": 6,
     "metadata": {},
     "output_type": "execute_result"
    }
   ],
   "source": [
    "dict(task_storage.task_store.get_all())"
   ],
   "metadata": {
    "collapsed": false,
    "ExecuteTime": {
     "end_time": "2023-05-15T11:17:33.299512600Z",
     "start_time": "2023-05-15T11:17:33.215986500Z"
    }
   }
  },
  {
   "cell_type": "code",
   "execution_count": 1,
   "outputs": [
    {
     "ename": "NameError",
     "evalue": "name 'task_storage' is not defined",
     "output_type": "error",
     "traceback": [
      "\u001B[1;31m---------------------------------------------------------------------------\u001B[0m",
      "\u001B[1;31mNameError\u001B[0m                                 Traceback (most recent call last)",
      "Cell \u001B[1;32mIn[1], line 9\u001B[0m\n\u001B[0;32m      5\u001B[0m DEFAULT_PERSIST_DIR \u001B[38;5;241m=\u001B[39m \u001B[38;5;124m\"\u001B[39m\u001B[38;5;124m./storage\u001B[39m\u001B[38;5;124m\"\u001B[39m\n\u001B[0;32m      6\u001B[0m DEFAULT_PERSIST_PATH \u001B[38;5;241m=\u001B[39m os\u001B[38;5;241m.\u001B[39mpath\u001B[38;5;241m.\u001B[39mjoin(DEFAULT_PERSIST_DIR, DEFAULT_PERSIST_FNAME)\n\u001B[0;32m      8\u001B[0m data \u001B[38;5;241m=\u001B[39m \u001B[38;5;28mdict\u001B[39m(\n\u001B[1;32m----> 9\u001B[0m     task_store\u001B[38;5;241m=\u001B[39m\u001B[43mtask_storage\u001B[49m\u001B[38;5;241m.\u001B[39mtask_store\u001B[38;5;241m.\u001B[39mget_all(),\n\u001B[0;32m     10\u001B[0m     task_network\u001B[38;5;241m=\u001B[39mtask_storage\u001B[38;5;241m.\u001B[39mtask_network\u001B[38;5;241m.\u001B[39mdict(),\n\u001B[0;32m     11\u001B[0m     project_board\u001B[38;5;241m=\u001B[39m\u001B[38;5;124m\"\u001B[39m\u001B[38;5;124mNone\u001B[39m\u001B[38;5;124m\"\u001B[39m\n\u001B[0;32m     12\u001B[0m )\n\u001B[0;32m     13\u001B[0m \u001B[38;5;28;01mif\u001B[39;00m \u001B[38;5;129;01mnot\u001B[39;00m os\u001B[38;5;241m.\u001B[39mpath\u001B[38;5;241m.\u001B[39mexists(DEFAULT_PERSIST_PATH):\n\u001B[0;32m     14\u001B[0m     \u001B[38;5;28mprint\u001B[39m(\u001B[38;5;124mf\u001B[39m\u001B[38;5;124m\"\u001B[39m\u001B[38;5;124mDirectory \u001B[39m\u001B[38;5;132;01m{\u001B[39;00mos\u001B[38;5;241m.\u001B[39mpath\u001B[38;5;241m.\u001B[39mdirname(DEFAULT_PERSIST_PATH)\u001B[38;5;132;01m}\u001B[39;00m\u001B[38;5;124m does not exist.\u001B[39m\u001B[38;5;124m\"\u001B[39m)\n",
      "\u001B[1;31mNameError\u001B[0m: name 'task_storage' is not defined"
     ]
    }
   ],
   "source": [
    "import json\n",
    "import os\n",
    "\n",
    "DEFAULT_PERSIST_FNAME = \"taskstore.json\"\n",
    "DEFAULT_PERSIST_DIR = \"./storage\"\n",
    "DEFAULT_PERSIST_PATH = os.path.join(DEFAULT_PERSIST_DIR, DEFAULT_PERSIST_FNAME)\n",
    "\n",
    "data = dict(\n",
    "    task_store=task_storage.task_store.get_all(),\n",
    "    task_network=task_storage.task_network.dict(),\n",
    "    project_board=\"None\"\n",
    ")\n",
    "if not os.path.exists(DEFAULT_PERSIST_PATH):\n",
    "    print(f\"Directory {os.path.dirname(DEFAULT_PERSIST_PATH)} does not exist.\")\n",
    "    # create directory\n",
    "    os.makedirs(os.path.dirname(DEFAULT_PERSIST_PATH))\n",
    "\n",
    "with open(DEFAULT_PERSIST_PATH, \"w\") as f:\n",
    "    json.dump(data, f)\n",
    "    print(f\"Persisted task store to {DEFAULT_PERSIST_PATH}\")"
   ],
   "metadata": {
    "collapsed": false,
    "ExecuteTime": {
     "end_time": "2023-05-16T11:22:46.298841400Z",
     "start_time": "2023-05-16T11:22:46.107858100Z"
    }
   }
  },
  {
   "cell_type": "code",
   "execution_count": 10,
   "outputs": [
    {
     "data": {
      "text/plain": "'C:\\\\Users\\\\Lukasz\\\\DataspellProjects\\\\TaskChain\\\\docs\\\\showcase\\\\storage\\\\taskstore.json'"
     },
     "execution_count": 10,
     "metadata": {},
     "output_type": "execute_result"
    }
   ],
   "source": [
    "os.path.abspath(DEFAULT_PERSIST_PATH)"
   ],
   "metadata": {
    "collapsed": false,
    "ExecuteTime": {
     "end_time": "2023-05-15T11:36:51.307312Z",
     "start_time": "2023-05-15T11:36:51.289524600Z"
    }
   }
  },
  {
   "cell_type": "code",
   "execution_count": 2,
   "outputs": [],
   "source": [
    "from task_chain.storage.task.context_store import TaskContextStore\n",
    "\n",
    "task_storage = TaskContextStore()\n",
    "task_storage.load_from_file('C:\\\\Users\\\\Lukasz\\\\DataspellProjects\\\\TaskChain\\\\docs\\\\showcase\\\\storage\\\\taskstore.json')"
   ],
   "metadata": {
    "collapsed": false,
    "ExecuteTime": {
     "end_time": "2023-05-16T11:23:09.329883100Z",
     "start_time": "2023-05-16T11:23:05.831652300Z"
    }
   }
  },
  {
   "cell_type": "code",
   "execution_count": 3,
   "outputs": [
    {
     "name": "stdout",
     "output_type": "stream",
     "text": [
      "\u001B[32m┐\u001B[0m\n",
      "\u001B[32m└──\u001B[0mCreate report on demographics of Tukibilistan\n",
      "\u001B[32m   \u001B[0m\u001B[33m├──\u001B[0manalyze population data to determine demographics\n",
      "\u001B[32m   \u001B[0m\u001B[33m├──\u001B[0mcreate visual representations of demographic data\n",
      "\u001B[32m   \u001B[0m\u001B[33m└──\u001B[0mcompile report with demographic data and visual representations\n"
     ]
    }
   ],
   "source": [
    "print(task_storage.repr_tree())"
   ],
   "metadata": {
    "collapsed": false,
    "ExecuteTime": {
     "end_time": "2023-05-15T13:13:44.026114500Z",
     "start_time": "2023-05-15T13:13:44.016113200Z"
    }
   }
  },
  {
   "cell_type": "code",
   "execution_count": 2,
   "outputs": [],
   "source": [
    "from task_chain.communication.non_interactive import NonInteractiveCommunicator\n",
    "from task_chain.executor.simple import SimpleTaskManager\n",
    "from task_chain.task.node import Task\n",
    "from task_chain.schema.task import TaskRelations\n",
    "\n",
    "communicator = NonInteractiveCommunicator()"
   ],
   "metadata": {
    "collapsed": false,
    "ExecuteTime": {
     "end_time": "2023-05-15T13:13:40.287797400Z",
     "start_time": "2023-05-15T13:13:40.227858400Z"
    }
   }
  },
  {
   "cell_type": "markdown",
   "source": [],
   "metadata": {
    "collapsed": false
   }
  },
  {
   "cell_type": "markdown",
   "source": [],
   "metadata": {
    "collapsed": false
   }
  },
  {
   "cell_type": "code",
   "execution_count": 4,
   "outputs": [],
   "source": [
    "task_id = \"44027486e374479fb04ce2db217d1e18\""
   ],
   "metadata": {
    "collapsed": false,
    "ExecuteTime": {
     "end_time": "2023-05-15T13:13:46.197070100Z",
     "start_time": "2023-05-15T13:13:46.173290900Z"
    }
   }
  },
  {
   "cell_type": "code",
   "execution_count": 5,
   "outputs": [],
   "source": [
    "task = task_storage.get_task(task_id)\n",
    "task.relations[TaskRelations.AGENT] = \"SearchAgent\"\n",
    "task_storage.update_task(task)"
   ],
   "metadata": {
    "collapsed": false,
    "ExecuteTime": {
     "end_time": "2023-05-15T13:13:46.711933300Z",
     "start_time": "2023-05-15T13:13:46.691422200Z"
    }
   }
  },
  {
   "cell_type": "code",
   "execution_count": 6,
   "outputs": [],
   "source": [
    "task_manager = SimpleTaskManager(\n",
    "    task=task,\n",
    "    task_storage=task_storage,\n",
    "    communication=communicator,\n",
    "    verbose=True,\n",
    ")"
   ],
   "metadata": {
    "collapsed": false,
    "ExecuteTime": {
     "end_time": "2023-05-15T13:13:47.535618600Z",
     "start_time": "2023-05-15T13:13:47.503619300Z"
    }
   }
  },
  {
   "cell_type": "code",
   "execution_count": 7,
   "outputs": [
    {
     "name": "stdout",
     "output_type": "stream",
     "text": [
      "\n",
      "\n",
      "\u001B[1m> Entering new SimpleTaskManager chain...\u001B[0m\n",
      "\n",
      "CURRENT CONTEXT:\n",
      "\u001B[32m┐\u001B[0m\n",
      "\u001B[32m└──\u001B[0mCreate report on demographics of Tukibilistan\n",
      "\u001B[32m   \u001B[0m\u001B[33m├──\u001B[0m\u001B[41manalyze population data to determine demographics\u001B[0m \u001B[31m<<<<<<<<\u001B[39m\n",
      "\u001B[32m   \u001B[0m\u001B[33m├──\u001B[0mcreate visual representations of demographic data\n",
      "\u001B[32m   \u001B[0m\u001B[33m└──\u001B[0mcompile report with demographic data and visual representations\n",
      "\n",
      "starting [Task Manager Role: execution] Task: analyze population data to determine demographics\n",
      "running startup sequence...\n",
      "finished startup sequence for [Task Manager Role: execution] Task: analyze population data to determine demographics.\n",
      "\n",
      "\n",
      "\u001B[1m> Entering new AgentExecutor chain...\u001B[0m\n",
      "\u001B[32;1m\u001B[1;3mI need more specific information about what demographic information is needed.\n",
      "Action: report_issue\n",
      "Action Input: Please provide more specific information about what demographic information is needed.\u001B[0m\n",
      "Observation: \u001B[33;1m\u001B[1;3mproblem='Please provide more specific information about what demographic information is needed.' recommendation=None\u001B[0m\n",
      "\n",
      "\u001B[1m> Finished chain.\u001B[0m\n",
      "running shutdown sequence ...\n",
      "finished shutdown sequence for [Task Manager Role: execution] Task: analyze population data to determine demographics.\n"
     ]
    }
   ],
   "source": [
    "result, task = task_manager.execute()"
   ],
   "metadata": {
    "collapsed": false,
    "ExecuteTime": {
     "end_time": "2023-05-15T13:13:52.185339500Z",
     "start_time": "2023-05-15T13:13:48.786103500Z"
    }
   }
  },
  {
   "cell_type": "code",
   "execution_count": 14,
   "outputs": [
    {
     "data": {
      "text/plain": "[{'header': {'type': 'issue', 'source': '44027486e374479fb04ce2db217d1e18'},\n  'body': 'execution_error issue with task 44027486e374479fb04ce2db217d1e18: Can you provide more details about the population data and the specific demographic information needed?'}]"
     },
     "execution_count": 14,
     "metadata": {},
     "output_type": "execute_result"
    }
   ],
   "source": [
    "communicator.fetch_all(\"issue\")"
   ],
   "metadata": {
    "collapsed": false,
    "ExecuteTime": {
     "end_time": "2023-05-15T12:53:34.578843500Z",
     "start_time": "2023-05-15T12:53:34.547162900Z"
    }
   }
  },
  {
   "cell_type": "code",
   "execution_count": 15,
   "outputs": [
    {
     "data": {
      "text/plain": "'Process the population data to extract demographic information.'"
     },
     "execution_count": 15,
     "metadata": {},
     "output_type": "execute_result"
    }
   ],
   "source": [
    "task.description"
   ],
   "metadata": {
    "collapsed": false,
    "ExecuteTime": {
     "end_time": "2023-05-15T12:54:07.896925200Z",
     "start_time": "2023-05-15T12:54:07.865575800Z"
    }
   }
  },
  {
   "cell_type": "code",
   "execution_count": 2,
   "outputs": [
    {
     "name": "stdout",
     "output_type": "stream",
     "text": [
      "hello\n",
      "hello\n"
     ]
    }
   ],
   "source": [
    "print(\"hello\")"
   ],
   "metadata": {
    "collapsed": false,
    "ExecuteTime": {
     "end_time": "2023-05-15T12:45:57.634278500Z",
     "start_time": "2023-05-15T12:45:57.603108100Z"
    }
   }
  },
  {
   "cell_type": "code",
   "execution_count": null,
   "outputs": [],
   "source": [],
   "metadata": {
    "collapsed": false
   }
  },
  {
   "cell_type": "markdown",
   "source": [
    "# Run Pipeline Manager"
   ],
   "metadata": {
    "collapsed": false
   }
  },
  {
   "cell_type": "code",
   "execution_count": 3,
   "outputs": [],
   "source": [
    "from task_chain.storage.task.context_store import TaskContextStore\n",
    "\n",
    "task_storage = TaskContextStore()\n",
    "task_storage.load_from_file('C:\\\\Users\\\\Lukasz\\\\DataspellProjects\\\\TaskChain\\\\docs\\\\showcase\\\\storage\\\\taskstore.json')"
   ],
   "metadata": {
    "collapsed": false,
    "ExecuteTime": {
     "end_time": "2023-05-16T11:23:39.060930700Z",
     "start_time": "2023-05-16T11:23:39.029658600Z"
    }
   }
  },
  {
   "cell_type": "markdown",
   "source": [
    "setup Communicator unit"
   ],
   "metadata": {
    "collapsed": false
   }
  },
  {
   "cell_type": "code",
   "execution_count": null,
   "outputs": [],
   "source": [],
   "metadata": {
    "collapsed": false
   }
  },
  {
   "cell_type": "code",
   "execution_count": null,
   "outputs": [],
   "source": [
    "from task_chain.executor.pipeline import PipelineManager\n",
    "\n",
    "pipeline_manager = PipelineManager(\n",
    "    task_storage=task_storage,\n",
    "    communication=communicator,\n",
    "    verbose=True,\n",
    ")"
   ],
   "metadata": {
    "collapsed": false
   }
  }
 ],
 "metadata": {
  "kernelspec": {
   "display_name": "Python 3",
   "language": "python",
   "name": "python3"
  },
  "language_info": {
   "codemirror_mode": {
    "name": "ipython",
    "version": 2
   },
   "file_extension": ".py",
   "mimetype": "text/x-python",
   "name": "python",
   "nbconvert_exporter": "python",
   "pygments_lexer": "ipython2",
   "version": "2.7.6"
  }
 },
 "nbformat": 4,
 "nbformat_minor": 0
}
