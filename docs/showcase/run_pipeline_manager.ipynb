{
 "cells": [
  {
   "cell_type": "markdown",
   "source": [
    "# PipelineManager"
   ],
   "metadata": {
    "collapsed": false
   }
  },
  {
   "cell_type": "markdown",
   "source": [
    "## 1. Decompose a task into a pipeline of subtasks"
   ],
   "metadata": {
    "collapsed": false
   }
  },
  {
   "cell_type": "code",
   "execution_count": 1,
   "metadata": {
    "collapsed": true,
    "ExecuteTime": {
     "end_time": "2023-05-16T12:38:19.712537Z",
     "start_time": "2023-05-16T12:37:36.108568400Z"
    }
   },
   "outputs": [
    {
     "name": "stdout",
     "output_type": "stream",
     "text": [
      "\n",
      "\n",
      "\u001B[1m> Entering new LLMChain chain...\u001B[0m\n",
      "\n",
      "\u001B[1m> Finished chain.\u001B[0m\n",
      "\n",
      "\n",
      "\u001B[1m> Entering new LLMChain chain...\u001B[0m\n",
      "\n",
      "\u001B[1m> Finished chain.\u001B[0m\n",
      "tasks=[PredictTask(name='collect demographic data for India', description='Collect demographic data for India including population, age distribution, gender ratio, etc.', inputs=[], outputs=['demographic_data_india']), PredictTask(name='analyze demographic data', description='Analyze the demographic data for India to identify patterns, trends and insights.', inputs=['demographic_data_india'], outputs=['demographic_analysis_india']), PredictTask(name='create report on demographic data for India', description='Create a detailed report on the demographic data for India including charts, graphs and insights.', inputs=['demographic_data_india', 'demographic_analysis_india'], outputs=['demographic_report_india'])]\n",
      "\n",
      "\n",
      "\u001B[1m> Entering new LLMChain chain...\u001B[0m\n",
      "\n",
      "\u001B[1m> Finished chain.\u001B[0m\n"
     ]
    }
   ],
   "source": [
    "from task_chain.agents.agent_registry import AgentRegistry\n",
    "from task_chain.decompose.pipeline import SimplePipelineDecomposer\n",
    "from task_chain.storage.task.context_store import TaskContextStore\n",
    "import nest_asyncio\n",
    "\n",
    "nest_asyncio.apply()\n",
    "\n",
    "objective = \"create a report about the demographics of the population of India\"\n",
    "task_storage = TaskContextStore()\n",
    "registry = AgentRegistry()\n",
    "\n",
    "decomposer = SimplePipelineDecomposer(\n",
    "    objective=objective,\n",
    "    storage_context=task_storage,\n",
    "    agents=registry.get_all()\n",
    ")\n",
    "\n",
    "task, subtasks = decomposer.create_tasks(verbose=True, run_async=True)"
   ]
  },
  {
   "cell_type": "code",
   "execution_count": 8,
   "outputs": [
    {
     "name": "stdout",
     "output_type": "stream",
     "text": [
      "Persisted task store to ./storage\\taskstore.json\n"
     ]
    }
   ],
   "source": [
    "task_storage.persist()"
   ],
   "metadata": {
    "collapsed": false,
    "ExecuteTime": {
     "end_time": "2023-05-16T12:37:22.331479200Z",
     "start_time": "2023-05-16T12:37:22.303658300Z"
    }
   }
  },
  {
   "cell_type": "code",
   "execution_count": 2,
   "outputs": [
    {
     "name": "stdout",
     "output_type": "stream",
     "text": [
      "[]\n",
      "['demographic_data']\n",
      "['demographic_trends']\n"
     ]
    }
   ],
   "source": [
    "children = task_storage.task_network.get_all_children(task.id)\n",
    "for child in children:\n",
    "    print(task_storage.get_task(child).inputs)"
   ],
   "metadata": {
    "collapsed": false,
    "ExecuteTime": {
     "end_time": "2023-05-16T12:33:38.210663700Z",
     "start_time": "2023-05-16T12:33:38.195072100Z"
    }
   }
  },
  {
   "cell_type": "code",
   "execution_count": 2,
   "outputs": [],
   "source": [
    "from task_chain.storage.task.context_store import TaskContextStore\n",
    "from task_chain.agents.agent_registry import AgentRegistry\n",
    "from task_chain.decompose.pipeline import SimplePipelineDecomposer\n",
    "from task_chain.storage.task.context_store import TaskContextStore\n",
    "import nest_asyncio\n",
    "\n",
    "nest_asyncio.apply()\n",
    "\n",
    "objective = \"create a report about the demographics of the population of India\"\n",
    "registry = AgentRegistry()\n",
    "\n",
    "\n",
    "task_storage = TaskContextStore()\n",
    "task_storage.load_from_file('C:\\\\Users\\\\Lukasz\\\\DataspellProjects\\\\TaskChain\\\\docs\\\\showcase\\\\storage\\\\taskstore.json')\n",
    "\n",
    "task = task_storage.get_task(task_storage.root_id)"
   ],
   "metadata": {
    "collapsed": false,
    "ExecuteTime": {
     "end_time": "2023-05-16T12:01:58.004569Z",
     "start_time": "2023-05-16T12:01:57.987772500Z"
    }
   }
  },
  {
   "cell_type": "code",
   "execution_count": null,
   "outputs": [],
   "source": [],
   "metadata": {
    "collapsed": false
   }
  },
  {
   "cell_type": "code",
   "execution_count": 2,
   "outputs": [
    {
     "name": "stdout",
     "output_type": "stream",
     "text": [
      "\u001B[32m┐\u001B[0m\n",
      "\u001B[32m└──\u001B[0mCreate report on demographic data for India\n",
      "\u001B[32m   \u001B[0m\u001B[33m├──\u001B[0mcollect demographic data for India\n",
      "\u001B[32m   \u001B[0m\u001B[33m├──\u001B[0manalyze demographic data\n",
      "\u001B[32m   \u001B[0m\u001B[33m└──\u001B[0mcreate report on demographic data for India\n"
     ]
    }
   ],
   "source": [
    "print(task_storage.repr_tree())"
   ],
   "metadata": {
    "collapsed": false,
    "ExecuteTime": {
     "end_time": "2023-05-16T12:38:24.986852400Z",
     "start_time": "2023-05-16T12:38:24.971215200Z"
    }
   }
  },
  {
   "cell_type": "markdown",
   "source": [
    "# Setup Pipeline Manager"
   ],
   "metadata": {
    "collapsed": false
   }
  },
  {
   "cell_type": "code",
   "execution_count": 3,
   "outputs": [],
   "source": [
    "from task_chain.executor.pipeline import PipelineManager\n",
    "from task_chain.communication.non_interactive import NonInteractiveCommunicator\n",
    "\n",
    "communicator = NonInteractiveCommunicator()\n",
    "\n",
    "pipeline_manager = PipelineManager(\n",
    "    task=task,\n",
    "    agent_registry=registry,\n",
    "    communication=communicator,\n",
    "    task_storage=task_storage,\n",
    "    persist=True,\n",
    "    persist_path=\"task_chain/storage/task/task_storage.json\",\n",
    "    verbose=True\n",
    ")"
   ],
   "metadata": {
    "collapsed": false,
    "ExecuteTime": {
     "end_time": "2023-05-16T12:38:29.586322200Z",
     "start_time": "2023-05-16T12:38:29.555647800Z"
    }
   }
  },
  {
   "cell_type": "code",
   "execution_count": 4,
   "outputs": [
    {
     "name": "stdout",
     "output_type": "stream",
     "text": [
      "\n",
      "\n",
      "\u001B[1m> Entering new PipelineManager chain...\u001B[0m\n",
      "\n",
      "CURRENT CONTEXT:\n",
      "\u001B[32m┐\u001B[0m\n",
      "\u001B[32m└──\u001B[0m\u001B[40mCreate report on demographic data for India\u001B[0m \u001B[31m<<<<<<<<\u001B[39m\n",
      "\u001B[32m   \u001B[0m\u001B[33m├──\u001B[0mcollect demographic data for India\n",
      "\u001B[32m   \u001B[0m\u001B[33m├──\u001B[0manalyze demographic data\n",
      "\u001B[32m   \u001B[0m\u001B[33m└──\u001B[0mcreate report on demographic data for India\n",
      "\n",
      "starting [Task Manager Role: execution] Task: Create report on demographic data for India\n",
      "\n",
      "\n",
      "\n",
      "\u001B[1m> Entering new SimpleTaskManager chain...\u001B[0m\n",
      "\n",
      "CURRENT CONTEXT:\n",
      "\u001B[32m┐\u001B[0m\n",
      "\u001B[32m└──\u001B[0mCreate report on demographic data for India\n",
      "\u001B[32m   \u001B[0m\u001B[33m├──\u001B[0m\u001B[42mcollect demographic data for India\u001B[0m \u001B[32m<<<<<<<<\u001B[39m\n",
      "\u001B[32m   \u001B[0m\u001B[33m├──\u001B[0manalyze demographic data\n",
      "\u001B[32m   \u001B[0m\u001B[33m└──\u001B[0mcreate report on demographic data for India\n",
      "\n",
      "starting [Task Manager Role: execution] Task: collect demographic data for India\n",
      "\n",
      "\n",
      "\n",
      "\u001B[1m> Entering new AgentExecutor chain...\u001B[0m\n",
      "\u001B[32;1m\u001B[1;3mI should first check if there are any reliable sources for demographic data on India.\n",
      "Action: Search\n",
      "Action Input: \"demographic data India\"\u001B[0m\n",
      "Observation: \u001B[36;1m\u001B[1;3mIndia, officially the Republic of India, is a country in South Asia. It became the world's most populous country in 2023, with a current population of over 1.425 billion.\u001B[0m\n",
      "Thought:\u001B[32;1m\u001B[1;3mThis is a general population statistic, I need more specific demographic data.\n",
      "Action: Search\n",
      "Action Input: \"age distribution India\" \u001B[0m\n",
      "Observation: \u001B[36;1m\u001B[1;3mThis statistic depicts the age distribution of India from 2011 to 2021. In 2021, about 25.69 percent of the Indian population fell into the 0-14 year category, 67.51 percent into the 15-64 age group and 6.8 percent were over 65 years of age.\u001B[0m\n",
      "Thought:\u001B[32;1m\u001B[1;3mI still need information on gender ratio and other demographic factors.\n",
      "Action: Search\n",
      "Action Input: \"gender ratio India\" \u001B[0m\n",
      "Observation: \u001B[36;1m\u001B[1;3mGender ratio in India The percentage of the female population is 48.04 percent compared to 51.96 percent male population. India has the highest numbers of exceed males population of 54.20 million. India is at 189th position out of 201 countries/territories in terms of female to male ratio.\u001B[0m\n",
      "Thought:\u001B[32;1m\u001B[1;3mI should also search for information on other demographic factors.\n",
      "Action: Search\n",
      "Action Input: \"demographic factors India\"\u001B[0m\n",
      "Observation: \u001B[36;1m\u001B[1;3mIndia's population is young. Its birth and death rates are both near the global average. More than half the population is under age 30 and less than ...\u001B[0m\n",
      "Thought:\u001B[32;1m\u001B[1;3mI now have all the necessary demographic data for India, including population, age distribution, gender ratio, and other factors.\n",
      "Final Answer: India has a population of over 1.425 billion, with 25.69% in the 0-14 age category, 67.51% in the 15-64 age group, and 6.8% over 65 years of age. The gender ratio is 48.04% female and 51.96% male, with India having the highest number of exceed males population of 54.20 million. India's population is young, with more than half under age 30.\u001B[0m\n",
      "\n",
      "\u001B[1m> Finished chain.\u001B[0m\n",
      "finished [Task Manager Role: execution] Task: collect demographic data for India\n",
      " with output: India has a population of over 1.425 billion, with 25.69% in the 0-14 age category, 67.51% in the 15-64 age group, and 6.8% over 65 years of age. The gender ratio is 48.04% female and 51.96% male, with India having the highest number of exceed males population of 54.20 million. India's population is young, with more than half under age 30.\n",
      "\n",
      "\n",
      "\n",
      "\u001B[1m> Entering new SimpleTaskManager chain...\u001B[0m\n",
      "\n",
      "CURRENT CONTEXT:\n",
      "\u001B[32m┐\u001B[0m\n",
      "\u001B[32m└──\u001B[0mCreate report on demographic data for India\n",
      "\u001B[32m   \u001B[0m\u001B[33m├──\u001B[0mcollect demographic data for India\n",
      "\u001B[32m   \u001B[0m\u001B[33m├──\u001B[0m\u001B[42manalyze demographic data\u001B[0m \u001B[32m<<<<<<<<\u001B[39m\n",
      "\u001B[32m   \u001B[0m\u001B[33m└──\u001B[0mcreate report on demographic data for India\n",
      "\n",
      "starting [Task Manager Role: execution] Task: analyze demographic data\n",
      "\n",
      "\n",
      "\n",
      "\u001B[1m> Entering new AgentExecutor chain...\u001B[0m\n",
      "\u001B[32;1m\u001B[1;3mI should start by looking for sources of demographic data for India.\n",
      "Action: Search\n",
      "Action Input: \"India demographic data sources\"\u001B[0m\n",
      "Observation: \u001B[36;1m\u001B[1;3mThe sources are: 1. Census 2. Civil Registration System 3. Demographic Surveys.\u001B[0m\n",
      "Thought:\u001B[32;1m\u001B[1;3mI should determine which source(s) to use based on the specific analysis I want to conduct.\n",
      "Action: Search\n",
      "Action Input: \"Which source of demographic data in India is best for analyzing patterns and trends?\"\u001B[0m\n",
      "Observation: \u001B[36;1m\u001B[1;3mCollection includes longitudinal surveys, macroeconomic indicators, election studies, population studies, socialization patterns, poverty measures, labor force ...\u001B[0m\n",
      "Thought:\u001B[32;1m\u001B[1;3mI should review each source and determine which is most relevant for my analysis.\n",
      "Action: Search\n",
      "Action Input: \"Comparison of demographic data sources in India\"\u001B[0m\n",
      "Observation: \u001B[36;1m\u001B[1;3mInterestingly, India has multiple sources of demographic data such as Census, Sample Registration System (SRS), National Family Health ...\u001B[0m\n",
      "Thought:\u001B[32;1m\u001B[1;3mI should also check if there are any recent updates or reports on India's demographic data.\n",
      "Action: Search\n",
      "Action Input: \"Recent reports on India's demographic data\"\u001B[0m\n",
      "Observation: \u001B[36;1m\u001B[1;3mUNFPA data estimates India's population at 1.4286 billion against 1.4257 billion for China by the middle of the year.\u001B[0m\n",
      "Thought:\u001B[32;1m\u001B[1;3mBased on my research, I should use the Census and National Family Health Survey as my sources of demographic data for India.\n",
      "Final Answer: The best sources of demographic data for analyzing patterns and trends in India are the Census and National Family Health Survey.\u001B[0m\n",
      "\n",
      "\u001B[1m> Finished chain.\u001B[0m\n",
      "finished [Task Manager Role: execution] Task: analyze demographic data\n",
      " with output: The best sources of demographic data for analyzing patterns and trends in India are the Census and National Family Health Survey.\n",
      "\n",
      "\n",
      "\n",
      "\u001B[1m> Entering new SimpleTaskManager chain...\u001B[0m\n",
      "\n",
      "CURRENT CONTEXT:\n",
      "\u001B[32m┐\u001B[0m\n",
      "\u001B[32m└──\u001B[0mCreate report on demographic data for India\n",
      "\u001B[32m   \u001B[0m\u001B[33m├──\u001B[0mcollect demographic data for India\n",
      "\u001B[32m   \u001B[0m\u001B[33m├──\u001B[0manalyze demographic data\n",
      "\u001B[32m   \u001B[0m\u001B[33m└──\u001B[0m\u001B[42mcreate report on demographic data for India\u001B[0m \u001B[32m<<<<<<<<\u001B[39m\n",
      "\n",
      "starting [Task Manager Role: execution] Task: create report on demographic data for India\n",
      "\n",
      "\n",
      "\n",
      "\u001B[1m> Entering new AgentExecutor chain...\u001B[0m\n",
      "\u001B[32;1m\u001B[1;3mI need to gather information on India's demographic data and how to create charts and graphs for a report.\n",
      "Action: Search\n",
      "Action Input: \"India demographic data report charts and graphs\"\u001B[0m\n",
      "Observation: \u001B[36;1m\u001B[1;3mThis radar chart displays and compares, for one or two selected populations, the percentage of households with access to water, sanitation, ...\u001B[0m\n",
      "Thought:\u001B[32;1m\u001B[1;3mI need more specific information on India's demographic data and how to create charts and graphs.\n",
      "Action: report_issue\n",
      "Action Input: \"I need guidance on where to find specific demographic data and how to create charts and graphs for a report on India's demographics.\"\u001B[0m\n",
      "Observation: \u001B[33;1m\u001B[1;3mdescription=\"I need guidance on where to find specific demographic data and how to create charts and graphs for a report on India's demographics.\" solution=None type=None\u001B[0m\n",
      "\n",
      "\u001B[1m> Finished chain.\u001B[0m\n",
      "error while executing [Task Manager Role: execution] Task: Create report on demographic data for India\n",
      "Error: 1 validation error for Issue\n",
      "type\n",
      "  none is not an allowed value (type=type_error.none.not_allowed)\n",
      "\n",
      "Executing Agent reported an issue [Task Manager Role: execution] Task: Create report on demographic data for India\n",
      "Issue: 1 validation error for Issue\n",
      "type\n",
      "  none is not an allowed value (type=type_error.none.not_allowed)\n",
      "Submitting issue to communication system and updating task status.\n",
      "\n",
      "Persisted task store to task_chain/storage/task/task_storage.json\n",
      "finished [Task Manager Role: execution] Task: Create report on demographic data for India\n",
      " with output: execution_error issue with task 2e271118dfe54fa79f7f555bb2929b29: 1 validation error for Issue\n",
      "type\n",
      "  none is not an allowed value (type=type_error.none.not_allowed)\n",
      "\n"
     ]
    },
    {
     "data": {
      "text/plain": "Task(id='2e271118dfe54fa79f7f555bb2929b29', name='Create report on demographic data for India', description='Create a detailed report on the demographic data for India including charts, graphs and insights.', status=<TaskStatus.ISSUE: 'issue'>, type=<TaskType.PIPELINE: 'pipeline'>, summary='root task:\\n    - collect demographic data for India\\n    - analyze demographic data\\n    - create report on demographic data for India', details=None, results=None, relations={<TaskRelations.ISSUE: 'issue'>: '57cf9efbf0834daab5bd73f8aa4cea99'}, inputs=['demographic_data_india', 'demographic_analysis_india'], outputs=['demographic_report_india'])"
     },
     "execution_count": 4,
     "metadata": {},
     "output_type": "execute_result"
    }
   ],
   "source": [
    "pipeline_manager.execute()"
   ],
   "metadata": {
    "collapsed": false,
    "ExecuteTime": {
     "end_time": "2023-05-16T12:39:48.900279200Z",
     "start_time": "2023-05-16T12:38:30.290729100Z"
    }
   }
  },
  {
   "cell_type": "code",
   "execution_count": 5,
   "outputs": [
    {
     "name": "stdout",
     "output_type": "stream",
     "text": [
      "root task:\n",
      "    - collect demographic data for India\n",
      "    - analyze demographic data\n",
      "    - create report on demographic data for India\n"
     ]
    }
   ],
   "source": [
    "print(task.get_summary())"
   ],
   "metadata": {
    "collapsed": false,
    "ExecuteTime": {
     "end_time": "2023-05-16T12:43:59.575797300Z",
     "start_time": "2023-05-16T12:43:59.560141700Z"
    }
   }
  },
  {
   "cell_type": "code",
   "execution_count": 5,
   "outputs": [
    {
     "data": {
      "text/plain": "['5d62bec3618245008862e3d99b545b1a',\n 'd0c8f3cba18e45c3938ab432fbf75766',\n 'a76356a2b0584565afdaac9358f93f46']"
     },
     "execution_count": 5,
     "metadata": {},
     "output_type": "execute_result"
    }
   ],
   "source": [
    "pipeline_manager.subordinate_tasks"
   ],
   "metadata": {
    "collapsed": false,
    "ExecuteTime": {
     "end_time": "2023-05-16T12:34:59.001304600Z",
     "start_time": "2023-05-16T12:34:58.985679100Z"
    }
   }
  },
  {
   "cell_type": "code",
   "execution_count": 7,
   "outputs": [
    {
     "data": {
      "text/plain": "Task(id='5d62bec3618245008862e3d99b545b1a', name='gather data on population demographics in India', description='Collect data on the population demographics in India.', status=<TaskStatus.OPEN: 'open'>, type=<TaskType.TASK: 'task'>, summary=None, details=None, results=None, relations={<TaskRelations.PARENT: 'parent'>: '523dc07daf114c89a25e8cfe92579e03', <TaskRelations.NEXT: 'next'>: 'd0c8f3cba18e45c3938ab432fbf75766', <TaskRelations.PREV: 'previous'>: None, <TaskRelations.ROOT: 'root'>: '523dc07daf114c89a25e8cfe92579e03', <TaskRelations.AGENT: 'agent'>: 'DecisionAgent'}, inputs=[], outputs=['demographic_data'])"
     },
     "execution_count": 7,
     "metadata": {},
     "output_type": "execute_result"
    }
   ],
   "source": [
    "task_storage.get_task(\"5d62bec3618245008862e3d99b545b1a\")"
   ],
   "metadata": {
    "collapsed": false,
    "ExecuteTime": {
     "end_time": "2023-05-16T12:35:16.165175900Z",
     "start_time": "2023-05-16T12:35:16.157086Z"
    }
   }
  },
  {
   "cell_type": "markdown",
   "source": [
    "Testing printing functions"
   ],
   "metadata": {
    "collapsed": false
   }
  },
  {
   "cell_type": "code",
   "execution_count": 1,
   "outputs": [],
   "source": [
    "from task_chain.task import Task\n",
    "from task_chain.schema import TaskStatus, TaskType, TaskRelations\n",
    "\n",
    "task = Task(id='2e271118dfe54fa79f7f555bb2929b29', name='Create report on demographic data for India', description='Create a detailed report on the demographic data for India including charts, graphs and insights.', status=TaskStatus.ISSUE, type=TaskType.PIPELINE, summary='root task:\\n    - collect demographic data for India\\n    - analyze demographic data\\n    - create report on demographic data for India', details=None, results=None, relations={TaskRelations.ISSUE: '57cf9efbf0834daab5bd73f8aa4cea99'}, inputs=['demographic_data_india', 'demographic_analysis_india'], outputs=['demographic_report_india'])"
   ],
   "metadata": {
    "collapsed": false
   }
  },
  {
   "cell_type": "code",
   "execution_count": 2,
   "outputs": [
    {
     "name": "stdout",
     "output_type": "stream",
     "text": [
      " \u001B[31m--------------------------------------------------------------------\u001B[39m\n",
      "\u001B[31m|\u001B[39m TASK TYPE:    \u001B[31mPIPELINE\u001B[39m                           STATUS: \u001B[31mISSUE\u001B[39m    \u001B[31m |\u001B[39m\n",
      "\u001B[31m|\u001B[39m                                                                   \u001B[31m |\u001B[39m\n",
      "\u001B[31m|\u001B[39m ID:           \u001B[31m2e271118dfe54fa79f7f555bb2929b29\u001B[39m                    \u001B[31m |\u001B[39m\n",
      "\u001B[31m|\u001B[39m                                                                   \u001B[31m |\u001B[39m\n",
      "\u001B[31m|\u001B[39m NAME:         \u001B[33mCreate report on demographic data for India\u001B[39m         \u001B[31m |\u001B[39m\n",
      "\u001B[31m|\u001B[39m DESCRIPTION:  \u001B[33mCreate a detailed report on the demographic data -\u001B[39m  \u001B[31m |\u001B[39m\n",
      "\u001B[31m|\u001B[39m \u001B[33m              for India including charts, graphs and insights.\u001B[39m    \u001B[31m |\u001B[39m\n",
      "\u001B[31m|\u001B[39m INPUTS:       \u001B[33mdemographic_data_india, demographic_analysis_india\u001B[39m  \u001B[31m |\u001B[39m\n",
      "\u001B[31m|\u001B[39m OUTPUTS:      \u001B[33mdemographic_report_india\u001B[39m                            \u001B[31m |\u001B[39m\n",
      " \u001B[31m--------------------------------------------------------------------\u001B[39m\n"
     ]
    }
   ],
   "source": [
    "print(task.colored_card_str())"
   ],
   "metadata": {
    "collapsed": false,
    "ExecuteTime": {
     "end_time": "2023-05-17T05:16:26.747616700Z",
     "start_time": "2023-05-17T05:16:26.741450900Z"
    }
   }
  },
  {
   "cell_type": "code",
   "execution_count": 7,
   "outputs": [
    {
     "data": {
      "text/plain": "48"
     },
     "execution_count": 7,
     "metadata": {},
     "output_type": "execute_result"
    }
   ],
   "source": [
    "len(\"2e271118dfe54fa79f7f555bb2929b29 | STATUS: issue\")"
   ],
   "metadata": {
    "collapsed": false,
    "ExecuteTime": {
     "end_time": "2023-05-17T04:13:13.077825400Z",
     "start_time": "2023-05-17T04:13:13.046542800Z"
    }
   }
  },
  {
   "cell_type": "code",
   "execution_count": 8,
   "outputs": [
    {
     "data": {
      "text/plain": "['dsfsdfggesgs']"
     },
     "execution_count": 8,
     "metadata": {},
     "output_type": "execute_result"
    }
   ],
   "source": [
    "\"dsfsdfggesgs\".split(\"\\n\")"
   ],
   "metadata": {
    "collapsed": false,
    "ExecuteTime": {
     "end_time": "2023-05-17T04:18:46.398479200Z",
     "start_time": "2023-05-17T04:18:46.382854600Z"
    }
   }
  },
  {
   "cell_type": "code",
   "execution_count": 67,
   "outputs": [],
   "source": [
    "def _prefix(key, width: int=13):\n",
    "    \"\"\"Return a prefix string.\"\"\"\n",
    "    _width = width - len(key)\n",
    "    return f\"{key.upper()}:{_width*' '}\"\n",
    "\n",
    "\n",
    "def trim_lines(content: str, indent=14, max_width=61):\n",
    "    lines = []\n",
    "    for line in content.split(\"\\n\"):\n",
    "        while len(line)+indent > max_width:\n",
    "            if not lines:\n",
    "                lines.append(line[:max_width-indent-1] + \"-\")\n",
    "                line = line[max_width-indent-1:]\n",
    "            else:\n",
    "                lines.append(\" \"*indent + line[:max_width-indent-1] + \"-\")\n",
    "                line = line[max_width-indent-1:]\n",
    "        if not lines:\n",
    "            lines.append(line)\n",
    "        else:\n",
    "            lines.append(\" \"*indent + line)\n",
    "    return lines\n",
    "\n",
    "\n",
    "def _formatted_task_lines(\n",
    "        task: Task,\n",
    "        indent: int = 14,\n",
    "        max_width: int = 44,\n",
    "        highlight: str = Fore.BLUE,\n",
    "        text_color: str = Fore.GREEN) -> list[str]:\n",
    "    \"\"\"Print a task as an outline.\"\"\"\n",
    "    first_line = f\"{_prefix('TASK TYPE')}{highlight}{task.type.upper()}{Fore.RESET}\"\n",
    "    space = max_width - len(f\"STATUS: {task.status}\") - len(_remove_ansii(first_line)) - 2\n",
    "    first_line += f\"{' '*space}STATUS: {highlight}{task.status.upper()}{Fore.RESET}\"\n",
    "\n",
    "    lines = [\n",
    "        first_line,\n",
    "        \" \",\n",
    "        f\"{_prefix('ID')}{highlight}{task.id}{Fore.RESET}\",\n",
    "        \" \"\n",
    "    ]\n",
    "\n",
    "    for key in [\"name\", \"description\", \"inputs\", \"outputs\"]:\n",
    "        content = getattr(task, key)\n",
    "        if isinstance(content, list):\n",
    "            content = \", \".join(content)\n",
    "            if len(content)+indent > max_width:\n",
    "                content = \"\\n\".join(content.split(\", \"))\n",
    "        _lines = trim_lines(content, indent=indent, max_width=max_width)\n",
    "        lines.append(f\"{_prefix(key)}{text_color}{_lines[0]}{Fore.RESET}\")\n",
    "        for line in _lines[1:]:\n",
    "            lines.append(f\"{text_color}{line}{Fore.RESET}\")\n",
    "\n",
    "    return lines\n",
    "\n",
    "def colored_task(\n",
    "        task: Task,\n",
    "        indent: int = 14,\n",
    "        max_width: int = 64,\n",
    "    ) -> str:\n",
    "    text_color = Fore.GREEN\n",
    "    if task.type == TaskType.ISSUE:\n",
    "        highlight = Fore.RED\n",
    "        text_color = Fore.YELLOW\n",
    "\n",
    "    elif task.status == TaskStatus.ISSUE:\n",
    "        highlight = Fore.RED\n",
    "        text_color = Fore.YELLOW\n",
    "    elif task.status == TaskStatus.IN_PROGRESS:\n",
    "        highlight = Fore.YELLOW\n",
    "    elif task.status == TaskStatus.CLOSED:\n",
    "        highlight = Fore.GREEN\n",
    "        text_color = Fore.WHITE\n",
    "    else:\n",
    "        highlight = Fore.BLUE\n",
    "\n",
    "    lines = _formatted_task_lines(\n",
    "        task, highlight=highlight, text_color=text_color, indent=indent, max_width=max_width)\n",
    "    return _outline_task(lines, highlight=highlight, max_width=max_width)\n",
    "\n",
    "\n",
    "\n",
    "def _outline_task(\n",
    "        lines: list[str],\n",
    "        max_width: int = 64,\n",
    "        highlight: str = Fore.BLUE,\n",
    "    ) -> str:\n",
    "\n",
    "    new_lines = []\n",
    "    width = max_width + 4\n",
    "    # header\n",
    "    new_lines.append(f\" {highlight}{'-'*width}{Fore.RESET}\")\n",
    "    for line in lines:\n",
    "        new_lines.append(f\"{highlight}|{Fore.RESET} {line}{' '*(width-2-len(_remove_ansii(line)))}{highlight} |{Fore.RESET}\")\n",
    "\n",
    "    # footer\n",
    "    new_lines.append(f\" {highlight}{'-'*width}{Fore.RESET}\")\n",
    "    return \"\\n\".join(new_lines)\n",
    "\n",
    "\n",
    "def _remove_ansii(string: str):\n",
    "    \"\"\"Remove ansii characters from a string.\"\"\"\n",
    "    import re\n",
    "    ansi_escape = re.compile(r'\\x1B\\[[0-?]*[ -/]*[@-~]')\n",
    "    return ansi_escape.sub('', string)\n",
    "\n"
   ],
   "metadata": {
    "collapsed": false,
    "ExecuteTime": {
     "end_time": "2023-05-17T05:08:54.343997500Z",
     "start_time": "2023-05-17T05:08:54.328335300Z"
    }
   }
  },
  {
   "cell_type": "code",
   "execution_count": 68,
   "outputs": [
    {
     "name": "stdout",
     "output_type": "stream",
     "text": [
      " \u001B[31m--------------------------------------------------------------------\u001B[39m\n",
      "\u001B[31m|\u001B[39m TASK TYPE:    \u001B[31mPIPELINE\u001B[39m                           STATUS: \u001B[31mISSUE\u001B[39m    \u001B[31m |\u001B[39m\n",
      "\u001B[31m|\u001B[39m                                                                   \u001B[31m |\u001B[39m\n",
      "\u001B[31m|\u001B[39m ID:           \u001B[31m2e271118dfe54fa79f7f555bb2929b29\u001B[39m                    \u001B[31m |\u001B[39m\n",
      "\u001B[31m|\u001B[39m                                                                   \u001B[31m |\u001B[39m\n",
      "\u001B[31m|\u001B[39m NAME:         \u001B[33mCreate report on demographic data for India\u001B[39m         \u001B[31m |\u001B[39m\n",
      "\u001B[31m|\u001B[39m DESCRIPTION:  \u001B[33mCreate a detailed report on the demographic data -\u001B[39m  \u001B[31m |\u001B[39m\n",
      "\u001B[31m|\u001B[39m \u001B[33m              for India including charts, graphs and insights.\u001B[39m    \u001B[31m |\u001B[39m\n",
      "\u001B[31m|\u001B[39m INPUTS:       \u001B[33mdemographic_data_india, demographic_analysis_india\u001B[39m  \u001B[31m |\u001B[39m\n",
      "\u001B[31m|\u001B[39m OUTPUTS:      \u001B[33mdemographic_report_india\u001B[39m                            \u001B[31m |\u001B[39m\n",
      " \u001B[31m--------------------------------------------------------------------\u001B[39m\n"
     ]
    }
   ],
   "source": [
    "print(colored_task(task))"
   ],
   "metadata": {
    "collapsed": false,
    "ExecuteTime": {
     "end_time": "2023-05-17T05:08:54.807495100Z",
     "start_time": "2023-05-17T05:08:54.776226400Z"
    }
   }
  },
  {
   "cell_type": "code",
   "execution_count": 39,
   "outputs": [
    {
     "name": "stdout",
     "output_type": "stream",
     "text": [
      "| dfdf  |\n",
      "|-------|\n"
     ]
    }
   ],
   "source": [
    "string = \"| dfdf  |\"\n",
    "string1 = \"|-------|\"\n",
    "print(string)\n",
    "print(string1)"
   ],
   "metadata": {
    "collapsed": false,
    "ExecuteTime": {
     "end_time": "2023-05-17T04:40:02.733334100Z",
     "start_time": "2023-05-17T04:40:02.720648300Z"
    }
   }
  },
  {
   "cell_type": "code",
   "execution_count": 40,
   "outputs": [],
   "source": [
    "lines = formatted_task_lines(task)"
   ],
   "metadata": {
    "collapsed": false,
    "ExecuteTime": {
     "end_time": "2023-05-17T04:40:20.438397Z",
     "start_time": "2023-05-17T04:40:20.434266300Z"
    }
   }
  },
  {
   "cell_type": "code",
   "execution_count": 41,
   "outputs": [
    {
     "name": "stdout",
     "output_type": "stream",
     "text": [
      "[82, 1, 67, 71, 71, 29, 46, 50, 48]\n"
     ]
    }
   ],
   "source": [
    "length = [len(line) for line in lines]\n",
    "print(length)"
   ],
   "metadata": {
    "collapsed": false,
    "ExecuteTime": {
     "end_time": "2023-05-17T04:40:37.627876400Z",
     "start_time": "2023-05-17T04:40:37.612251100Z"
    }
   }
  },
  {
   "cell_type": "code",
   "execution_count": 42,
   "outputs": [
    {
     "data": {
      "text/plain": "['ID:           \\x1b[34m2e271118dfe54fa79f7f555bb2929b29\\x1b[39m | STATUS: \\x1b[34missue\\x1b[39m',\n ' ',\n 'NAME:         \\x1b[32mCreate report on demographic data for India\\x1b[39m',\n 'DESCRIPTION:  \\x1b[32mCreate a detailed report on the demographic da-\\x1b[39m',\n '\\x1b[32m              ta for India including charts, graphs and insi-\\x1b[39m',\n '\\x1b[32m              ghts.\\x1b[39m',\n 'INPUTS:       \\x1b[32mdemographic_data_india\\x1b[39m',\n '\\x1b[32m              demographic_analysis_india\\x1b[39m',\n 'OUTPUTS:      \\x1b[32mdemographic_report_india\\x1b[39m']"
     },
     "execution_count": 42,
     "metadata": {},
     "output_type": "execute_result"
    }
   ],
   "source": [
    "lines"
   ],
   "metadata": {
    "collapsed": false,
    "ExecuteTime": {
     "end_time": "2023-05-17T04:40:47.502917700Z",
     "start_time": "2023-05-17T04:40:47.471568700Z"
    }
   }
  },
  {
   "cell_type": "code",
   "execution_count": null,
   "outputs": [],
   "source": [],
   "metadata": {
    "collapsed": false
   }
  }
 ],
 "metadata": {
  "kernelspec": {
   "display_name": "Python 3",
   "language": "python",
   "name": "python3"
  },
  "language_info": {
   "codemirror_mode": {
    "name": "ipython",
    "version": 2
   },
   "file_extension": ".py",
   "mimetype": "text/x-python",
   "name": "python",
   "nbconvert_exporter": "python",
   "pygments_lexer": "ipython2",
   "version": "2.7.6"
  }
 },
 "nbformat": 4,
 "nbformat_minor": 0
}
